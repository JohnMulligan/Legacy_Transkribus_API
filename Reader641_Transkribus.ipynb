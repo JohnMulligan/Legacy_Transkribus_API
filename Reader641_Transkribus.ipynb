{
  "nbformat": 4,
  "nbformat_minor": 0,
  "metadata": {
    "colab": {
      "provenance": [],
      "authorship_tag": "ABX9TyO5z547djQxAVygUuO3SS2m",
      "include_colab_link": true
    },
    "kernelspec": {
      "name": "python3",
      "display_name": "Python 3"
    },
    "language_info": {
      "name": "python"
    }
  },
  "cells": [
    {
      "cell_type": "markdown",
      "metadata": {
        "id": "view-in-github",
        "colab_type": "text"
      },
      "source": [
        "<a href=\"https://colab.research.google.com/github/Reader641/Legacy_Transkribus_API/blob/main/Reader641_Transkribus.ipynb\" target=\"_parent\"><img src=\"https://colab.research.google.com/assets/colab-badge.svg\" alt=\"Open In Colab\"/></a>"
      ]
    },
    {
      "cell_type": "markdown",
      "source": [
        "# Using the Transkribus REST API"
      ],
      "metadata": {
        "id": "8EZ3zx4I318Z"
      }
    },
    {
      "cell_type": "markdown",
      "source": [
        "First we will test out logging into the API, afterwards we'll write functions for each task we need to do to upload an image, start an OCR job and then retreive the recognized text."
      ],
      "metadata": {
        "id": "RBxl0ccTDHUv"
      }
    },
    {
      "cell_type": "code",
      "execution_count": null,
      "metadata": {
        "id": "iwuH71FM3apz"
      },
      "outputs": [],
      "source": [
        "# Importing the stuff we need\n",
        "import requests\n",
        "from google.colab import userdata\n",
        "import os\n",
        "import json\n",
        "from bs4 import BeautifulSoup\n",
        "import time\n",
        "from datetime import datetime\n",
        "from IPython.display import Image, display"
      ]
    },
    {
      "cell_type": "markdown",
      "source": [
        "## POST-ing Login Credentials\n",
        "-------\n",
        "Username and Password stored as secrets in google colab"
      ],
      "metadata": {
        "id": "BCO_Zh1K5szV"
      }
    },
    {
      "cell_type": "code",
      "source": [
        "url = \"https://transkribus.eu/TrpServer/rest/auth/login\"\n",
        "data = {\"user\" : userdata.get('username'), \"pw\" : userdata.get('password')}\n",
        "response = requests.post(url, data = data)\n",
        "response.status_code\n",
        "\n"
      ],
      "metadata": {
        "colab": {
          "base_uri": "https://localhost:8080/"
        },
        "id": "m-Y5TaSp30Rv",
        "outputId": "ccbec893-e9dd-4beb-888e-9e9a5bbaadfc"
      },
      "execution_count": null,
      "outputs": [
        {
          "output_type": "execute_result",
          "data": {
            "text/plain": [
              "200"
            ]
          },
          "metadata": {},
          "execution_count": 5
        }
      ]
    },
    {
      "cell_type": "markdown",
      "source": [
        "Lets see whats in our response from the API"
      ],
      "metadata": {
        "id": "D6XKZEQn9DST"
      }
    },
    {
      "cell_type": "code",
      "source": [
        "\n",
        "bs = BeautifulSoup(response.content, 'xml')\n",
        "pretty_xml = bs.prettify()\n",
        "print(pretty_xml)\n"
      ],
      "metadata": {
        "colab": {
          "base_uri": "https://localhost:8080/"
        },
        "id": "jr8XzLBL8_41",
        "outputId": "3e826b77-a5f2-4907-c77a-fc2339175be0"
      },
      "execution_count": null,
      "outputs": [
        {
          "output_type": "stream",
          "name": "stdout",
          "text": [
            "<?xml version=\"1.0\" encoding=\"utf-8\"?>\n",
            "<trpUserLogin>\n",
            " <userId>\n",
            "  220701\n",
            " </userId>\n",
            " <userName>\n",
            "  rianfrederick4@gmail.com\n",
            " </userName>\n",
            " <email>\n",
            "  rianfrederick4@gmail.com\n",
            " </email>\n",
            " <affiliation>\n",
            "  None\n",
            " </affiliation>\n",
            " <firstname>\n",
            "  Derrian\n",
            " </firstname>\n",
            " <lastname>\n",
            "  Frederick\n",
            " </lastname>\n",
            " <gender>\n",
            "  unknown\n",
            " </gender>\n",
            " <userRoleList>\n",
            "  User\n",
            " </userRoleList>\n",
            " <isActive>\n",
            "  1\n",
            " </isActive>\n",
            " <isAdmin>\n",
            "  false\n",
            " </isAdmin>\n",
            " <created>\n",
            "  2024-02-23T00:31:21.291+01:00\n",
            " </created>\n",
            " <loginTime>\n",
            "  2024-03-15T16:22:41.327+01:00\n",
            " </loginTime>\n",
            " <sessionId>\n",
            "  A2F70A6A923DE4793B0943CAEA0F5975\n",
            " </sessionId>\n",
            " <userAgent>\n",
            "  python-requests/2.31.0\n",
            " </userAgent>\n",
            " <ip>\n",
            "  35.204.235.168\n",
            " </ip>\n",
            "</trpUserLogin>\n",
            "\n"
          ]
        }
      ]
    },
    {
      "cell_type": "markdown",
      "source": [
        "It works! Now lets make functions for the tasks:\n",
        "* Login\n",
        "* Get Collections List\n",
        "* Upload Images\n",
        "* List Jobs\n",
        "* Start OCR Job\n",
        "* Retrieve Recognized Text"
      ],
      "metadata": {
        "id": "TK9sQn7UCtfF"
      }
    },
    {
      "cell_type": "markdown",
      "source": [
        "# Login Function\n",
        "-----\n",
        "This fucntion will take the username and password and return the session id."
      ],
      "metadata": {
        "id": "yHoFelbNELtW"
      }
    },
    {
      "cell_type": "code",
      "source": [
        "def login(user, password):\n",
        "  url = \"https://transkribus.eu/TrpServer/rest/auth/login\"\n",
        "  data = {\"user\" : user, \"pw\" : password}\n",
        "  response = requests.post(url, data = data)\n",
        "  ##print(response.status_code)\n",
        "  bs = BeautifulSoup(response.content, 'xml')\n",
        "  session_id = bs.find_all(\"sessionId\")\n",
        "  return session_id[0].text"
      ],
      "metadata": {
        "id": "T3ZBZGi3EOGy"
      },
      "execution_count": null,
      "outputs": []
    },
    {
      "cell_type": "markdown",
      "source": [
        "# Get Collections List\n",
        "--------\n",
        "This function will take in the session ID and return a list of collections that the user has access to."
      ],
      "metadata": {
        "id": "yZLfx6xRGYQk"
      }
    },
    {
      "cell_type": "code",
      "source": [
        "def get_collections(session_id):\n",
        "  url = \"https://transkribus.eu/TrpServer/rest/collections/list\"\n",
        "  cookie = {\"JSESSIONID\" : session_id}\n",
        "  response = requests.get(url, cookies = cookie)\n",
        "  ##print(response.status_code)\n",
        "  collection_list = json.loads(response.content)\n",
        "  ##print(collection_list)\n",
        "  return collection_list\n",
        "\n"
      ],
      "metadata": {
        "id": "NdrJ2E8TG1jU"
      },
      "execution_count": null,
      "outputs": []
    },
    {
      "cell_type": "markdown",
      "source": [
        "# Get Documents List\n",
        "-------\n",
        "Returns a list of documents in a specific collection by ID."
      ],
      "metadata": {
        "id": "kQ0i7tdIsS9f"
      }
    },
    {
      "cell_type": "code",
      "source": [
        "def get_documents(session_id, collection_id):\n",
        "  url = \"https://transkribus.eu/TrpServer/rest/collections/{}/list\".format(collection_id)\n",
        "  cookie = {\"JSESSIONID\" : session_id}\n",
        "  response = requests.get(url, cookies = cookie)\n",
        "  #print(response.status_code)\n",
        "  document = json.loads(response.content)\n",
        "  #print(document_list)\n",
        "  return document\n"
      ],
      "metadata": {
        "id": "UKXmM3YcsxSH"
      },
      "execution_count": null,
      "outputs": []
    },
    {
      "cell_type": "markdown",
      "source": [
        "\n",
        "\n",
        "```\n",
        "# This is formatted as code\n",
        "```\n",
        "\n",
        "# Get Document\n",
        "--------\n",
        "Returns a specfied document by ID from a specific collection by ID.\n"
      ],
      "metadata": {
        "id": "0YqMGsAvu5wt"
      }
    },
    {
      "cell_type": "code",
      "source": [
        "def get_document(session_id, collection_id, document_id):\n",
        "  url = \"https://transkribus.eu/TrpServer/rest/collections/{}/{}/fulldoc\".format(collection_id, document_id)\n",
        "  cookie = {\"JSESSIONID\" : session_id}\n",
        "  response = requests.get(url, cookies = cookie)\n",
        "  #print(response.status_code)\n",
        "  document_list = json.loads(response.content)\n",
        "  #print(document_list)\n",
        "  return document_list"
      ],
      "metadata": {
        "id": "1rrh3JpyvxU0"
      },
      "execution_count": null,
      "outputs": []
    },
    {
      "cell_type": "markdown",
      "source": [
        "# Display Image\n",
        "-------\n",
        "Displays the image from a URL.\n"
      ],
      "metadata": {
        "id": "S9uJ7X2DzI57"
      }
    },
    {
      "cell_type": "code",
      "source": [
        "def display_image(url):\n",
        "  r = requests.get(url, stream = True)\n",
        "  with open('image.jpg', 'wb') as img:\n",
        "    for chunk in r.iter_content(chunk_size=128):\n",
        "        img.write(chunk)\n",
        "  display(Image(filename='image.jpg'))"
      ],
      "metadata": {
        "id": "usbWK9QU1CNp"
      },
      "execution_count": null,
      "outputs": []
    },
    {
      "cell_type": "markdown",
      "source": [
        "# Get Image URLs\n",
        "--------\n",
        "Get image URL from LOC"
      ],
      "metadata": {
        "id": "0rs7vrB6kVIR"
      }
    },
    {
      "cell_type": "code",
      "source": [
        "def get_image_urls(url, num_items):\n",
        "    items = []\n",
        "    params = {\"fo\": \"json\", \"c\": num_items, \"at\": \"results\"}\n",
        "    call = requests.get(url, params=params)\n",
        "    data = call.json()\n",
        "    results = data['results']\n",
        "    for result in results:\n",
        "        # don't try to get images from the collection-level result\n",
        "        if \"collection\" not in result.get(\"original_format\") and \"web page\" not in result.get(\"original_format\"):\n",
        "            # take the last URL listed in the image_url array\n",
        "            if result.get(\"image_url\"):\n",
        "                item = result.get(\"image_url\")[3]\n",
        "                items.append(item)\n",
        "    return items"
      ],
      "metadata": {
        "id": "ySl7xVNHkT7x"
      },
      "execution_count": null,
      "outputs": []
    },
    {
      "cell_type": "markdown",
      "source": [
        "# Get Collection Metadata\n",
        "-----------------\n",
        "Retrieves Metadata from the collection URL"
      ],
      "metadata": {
        "id": "t-cE9NEpnTIn"
      }
    },
    {
      "cell_type": "code",
      "source": [
        "def get_collection_metadata(url):\n",
        "    params = {\"fo\": \"json\"}\n",
        "    response = requests.get(url, params=params)\n",
        "    data = response.json()\n",
        "\n",
        "    title = 'default' #data['results'][0]['title']\n",
        "    author = 'default' #data['results'][0]['contributor']\n",
        "    genre = 'default' #data['results'][0]['item']['genre']\n",
        "    return title, author, genre"
      ],
      "metadata": {
        "id": "OKgK6My5n_ib"
      },
      "execution_count": null,
      "outputs": []
    },
    {
      "cell_type": "markdown",
      "source": [
        "# Job Management\n",
        "------\n",
        "Functions for getting the list of jobs, the details of specific jobs and cancelling specific jobs."
      ],
      "metadata": {
        "id": "cfLeCkcc4Gg5"
      }
    },
    {
      "cell_type": "code",
      "source": [
        "def get_jobs(session_id):\n",
        "  url = \"https://transkribus.eu/TrpServer/rest/jobs/list\"\n",
        "  cookie = {\"JSESSIONID\" : session_id}\n",
        "  response = requests.get(url, cookies = cookie)\n",
        "  #print(response.status_code)\n",
        "  job_list = json.loads(response.content)\n",
        "  #print(document_list)\n",
        "  return job_list\n",
        "\n",
        "\n",
        "def get_job(session_id, job_id):\n",
        "  url = \"https://transkribus.eu/TrpServer/rest/jobs/{}\".format(job_id)\n",
        "  cookie = {\"JSESSIONID\" : session_id}\n",
        "  response = requests.get(url, cookies = cookie)\n",
        "  #print(response.status_code)\n",
        "  job = json.loads(response.content)\n",
        "  #print(job_list)\n",
        "  return job\n",
        "\n",
        "def kill_job(session_id, job_id):\n",
        "  url = \"https://transkribus.eu/TrpServer/rest/jobs/{}/kill\".format(job_id)\n",
        "  cookie = {\"JSESSIONID\" : session_id}\n",
        "  response = requests.post(url, cookies = cookie)\n",
        "  #print(response.status_code)\n",
        "\n",
        "\n",
        "\n",
        "def job_errors(session_id, job_id):\n",
        "  url = \"https://transkribus.eu/TrpServer/rest/jobs/{}/errors\".format(job_id)\n",
        "  cookie = {\"JSESSIONID\" : session_id}\n",
        "  response = requests.get(url, cookies = cookie)\n",
        "  #print(response.status_code)\n",
        "  errors = json.loads(response.content)\n",
        "  #print(errors)\n",
        "  return errors"
      ],
      "metadata": {
        "id": "WjtLsdJ04qo8"
      },
      "execution_count": null,
      "outputs": []
    },
    {
      "cell_type": "markdown",
      "source": [
        "# Start Job\n",
        "---------\n",
        "Starts a an OCR job on a specifc document page in a collection and returns the job ID"
      ],
      "metadata": {
        "id": "D-Y3XALyAyYS"
      }
    },
    {
      "cell_type": "code",
      "source": [
        "def start_ocr_job(session_id, collection_id, model_id, document_id, page_num):\n",
        "  # Got this from looking at the request generated when you do the recognition manually\n",
        "  '''\n",
        "  fetch(\"https://transkribus.eu/TrpServer/rest/pylaia/282926/39995/recognition?id=1877858&pages=2&writeKwsIndex=false&doStructures=&clearLines=false&doWordSeg=true&allowConcurrentExecution=false&keepOriginalLinePolygons=false&useExistingLinePolygons=false\", {\n",
        "    \"headers\": {\n",
        "      \"accept\": \"*/*\",\n",
        "      \"accept-language\": \"en-US,en;q=0.9\",\n",
        "      \"sec-fetch-dest\": \"empty\",\n",
        "      \"sec-fetch-mode\": \"cors\",\n",
        "      \"sec-fetch-site\": \"cross-site\"\n",
        "    },\n",
        "    \"referrer\": \"https://app.transkribus.org/\",\n",
        "    \"referrerPolicy\": \"strict-origin-when-cross-origin\",\n",
        "    \"body\": null,\n",
        "    \"method\": \"OPTIONS\",\n",
        "    \"mode\": \"cors\",\n",
        "    \"credentials\": \"omit\"\n",
        "  });\n",
        "  '''\n",
        "  url = \"https://transkribus.eu/TrpServer/rest/pylaia/{}/{}/recognition\".format(collection_id, model_id)\n",
        "  cookie = {\"JSESSIONID\" : session_id}\n",
        "  params = {\"id\": document_id, \"pages\": page_num}\n",
        "  response = requests.post(url, cookies = cookie, params=params)\n",
        "  #print(response.status_code)\n",
        "  #print(response.content)\n",
        "  #print(url)\n",
        "  job_id = json.loads(response.content)\n",
        "  #print(document_list)\n",
        "\n",
        "\n",
        "  return job_id"
      ],
      "metadata": {
        "id": "sWWTDb3EBAbI"
      },
      "execution_count": null,
      "outputs": []
    },
    {
      "cell_type": "markdown",
      "source": [
        "# Upload Document Images\n",
        "---------\n",
        "Takes a collection URL from LOC and uploads a specific number of images from that collection as a document. Returns a Job ID."
      ],
      "metadata": {
        "id": "DMmtGuiU-pub"
      }
    },
    {
      "cell_type": "code",
      "source": [
        "\n",
        "def upload_documents(collection_url, num_items, collection_id):\n",
        "  image_urls = get_image_urls(collection_url, num_items)\n",
        "  title, author, genre = get_collection_metadata(collection_url)\n",
        "  page_num = 1\n",
        "  pages = []\n",
        "  files = []\n",
        "  file_paths = []\n",
        "\n",
        "  for image_url in image_urls:\n",
        "    file_name = collection_url.split('/')[-1] + '_' + str(page_num) + '.jpg'\n",
        "    file_path = \"./tmp/\" + file_name\n",
        "    file_paths.append(file_path)\n",
        "    pages.append({\"fileName\": file_name, \"pageNr\": page_num})\n",
        "    page_num += 1\n",
        "    #print(image_urls)\n",
        "    #print(file_name)\n",
        "    r = requests.get(image_url, stream = True)\n",
        "    with open(file_path, 'wb') as img:\n",
        "      for chunk in r.iter_content(chunk_size=128):\n",
        "        img.write(chunk)\n",
        "    files.append({'img': open(file_path,'rb'), 'Content-Type': 'application/octet-stream'})\n",
        "\n",
        "  document = {\n",
        "    \"md\":\n",
        "      {\n",
        "        \"title\": title,\n",
        "        \"author\": author,\n",
        "        \"genre\": genre,\n",
        "      },\n",
        "    \"pageList\":\n",
        "      {\n",
        "        \"pages\": pages\n",
        "      }\n",
        "  }\n",
        "\n",
        "\n",
        "  url = \"https://transkribus.eu/TrpServer/rest/uploads?collId={}\".format(collection_id)\n",
        "  cookie = {\"JSESSIONID\" : session_id}\n",
        "  response = requests.post(url, cookies = cookie, json = document)\n",
        "\n",
        "  bs = BeautifulSoup(response.content, 'xml')\n",
        "  upload_id = bs.find_all(\"uploadId\")[0].text\n",
        "\n",
        "  #print(upload_id)\n",
        "\n",
        "  for file in files:\n",
        "    url = \"https://transkribus.eu/TrpServer/rest/uploads/{}\".format(upload_id)\n",
        "    cookie = {\"JSESSIONID\" : session_id}\n",
        "    response = requests.put(url, cookies = cookie, files = file)\n",
        "    #print(file)\n",
        "    #print(response.status_code)\n",
        "    #print(response.content)\n",
        "  for file_path in file_paths:\n",
        "    os.remove(file_path)\n",
        "\n",
        "\n",
        "  bs = BeautifulSoup(response.content, 'xml')\n",
        "  job_id = bs.find_all(\"jobId\")[0].text\n",
        "\n",
        "  return job_id\n",
        "\n",
        "\n",
        "\n"
      ],
      "metadata": {
        "id": "RleW-E3r-ozT"
      },
      "execution_count": null,
      "outputs": []
    },
    {
      "cell_type": "markdown",
      "source": [
        "# Log Progress\n",
        "--------------\n",
        "This function logs the mentioned message at a given stage of the code execution to a log file. Function returns nothing"
      ],
      "metadata": {
        "id": "wQd3n4ig7IOD"
      }
    },
    {
      "cell_type": "code",
      "source": [
        "def log_progress(message):\n",
        "    timestamp_format = '%Y-%h-%d-%H:%M:%S' # Year-Monthname-Day-Hour-Minute-Second\n",
        "    now = datetime.now() # get current timestamp\n",
        "    timestamp = now.strftime(timestamp_format)\n",
        "    with open(\"./log.txt\",\"a\") as f:\n",
        "        f.write(timestamp + ' : ' + message + '\\n')"
      ],
      "metadata": {
        "id": "zUvQC6FV7QN2"
      },
      "execution_count": null,
      "outputs": []
    },
    {
      "cell_type": "markdown",
      "source": [
        "# Work Flow\n",
        "-------\n",
        "Now that all of our functions are written we can work on a work flow for uploading a document to Transkribus, starting the OCR Job and getting the transcribed text"
      ],
      "metadata": {
        "id": "yZCIjmBy6WfF"
      }
    },
    {
      "cell_type": "code",
      "source": [
        "model_id = 39995\n",
        "num = 5\n",
        "url = \"https://www.loc.gov/collections/nineteenth-century-song-sheets\"\n",
        "\n",
        "log_progress(\"Intiating process\")\n",
        "\n",
        "session_id = login(userdata.get('username'), userdata.get('password'))\n",
        "log_progress(\"Login Completed | Session ID - {}\".format(session_id))\n",
        "\n",
        "collections = get_collections(session_id)\n",
        "collection_id = collections[1][\"colId\"]\n",
        "log_progress(\"Retrived Collection ID | Collection ID - {}\".format(collection_id))\n",
        "\n",
        "\n",
        "\n",
        "\n",
        "job_id = upload_documents(url, num, collection_id)\n",
        "log_progress(\"Uploading ({}) Documents from {} to {}\".format(num, url, collection_id))\n",
        "\n",
        "\n",
        "job_status = get_job(session_id, job_id)\n",
        "\n",
        "\n",
        "while(job_status['state'] == \"RUNNING\"):\n",
        "  job_status = get_job(session_id, job_id)\n",
        "  log_progress(\"Job ID - {} |  State - {}\".format(job_id, job_status['state']))\n",
        "  time.sleep(1)\n",
        "\n",
        "job_status = get_job(session_id, job_id)\n",
        "if (job_status['state'] == \"FINISHED\"):\n",
        "  log_progress(\"Job Finished\")\n",
        "\n",
        "log_progress(\"Documents Uploaded\")\n",
        "\n",
        "document_list = get_documents(session_id, collection_id)\n",
        "document_id = document_list[0]['docId']\n",
        "\n",
        "\n",
        "\n",
        "\n",
        "for page_num in range(1, num+1):\n",
        "  job_id = start_ocr_job(session_id, collection_id, model_id, document_id, page_num)\n",
        "  job_status = get_job(session_id, job_id)\n",
        "  log_progress(\"Started OCR Job on Page ID - {}, of Document ID - {}, of Collection ID - {}, with Model ID - {} | Job ID - {}\".format(page_num, document_id, collection_id, model_id, job_id))\n",
        "  while(job_status['state'] == \"RUNNING\"):\n",
        "    job_status = get_job(session_id, job_id)\n",
        "    log_progress(\"OCR Job ID - {} |  State - {}\".format(job_id, job_status['state']))\n",
        "    time.sleep(1)\n",
        "\n",
        "\n",
        "  job_status = get_job(session_id, job_id)\n",
        "  if (job_status['state'] == \"FINISHED\"):\n",
        "    log_progress(\"OCR Job Finished\")\n",
        "\n",
        "document = get_document(session_id, collection_id, document_id)\n",
        "log_progress(\"Document Retrived\")\n",
        "\n",
        "transcripts = []\n",
        "\n",
        "for page_num in range(0, num):\n",
        "   xml_url = document['pageList']['pages'][page_num]['tsList']['transcripts'][0]['url']\n",
        "   r = requests.get(xml_url)\n",
        "   transcripts.append(r.content)\n",
        "\n",
        "log_progress(\"Transcripts Retrived\")\n"
      ],
      "metadata": {
        "id": "UJpt98niHRFg"
      },
      "execution_count": null,
      "outputs": []
    },
    {
      "cell_type": "code",
      "source": [
        "json_str = json.dumps(document, indent=4, sort_keys=True)\n",
        "print(json_str)"
      ],
      "metadata": {
        "colab": {
          "base_uri": "https://localhost:8080/"
        },
        "id": "Xzjq_AldL7ZW",
        "outputId": "cad79b12-6544-4be7-9691-74834db35cd8"
      },
      "execution_count": null,
      "outputs": [
        {
          "output_type": "stream",
          "name": "stdout",
          "text": [
            "{\n",
            "    \"collection\": {\n",
            "        \"accountingStatus\": 1,\n",
            "        \"colId\": 282926,\n",
            "        \"colName\": \"Test Collection\",\n",
            "        \"created\": \"2024-02-27T21:00:45.18+01:00\",\n",
            "        \"crowdsourcing\": false,\n",
            "        \"description\": \"created by rianfrederick4@gmail.com\",\n",
            "        \"elearning\": false,\n",
            "        \"nrOfDocuments\": 0,\n",
            "        \"pageId\": 66705944,\n",
            "        \"thumbUrl\": \"https://files.transkribus.eu/Get?fileType=thumb&id=BNSNIKEFHMRRWTFWESKXGOKB\",\n",
            "        \"url\": \"https://files.transkribus.eu/Get?fileType=view&id=BNSNIKEFHMRRWTFWESKXGOKB\"\n",
            "    },\n",
            "    \"edDeclList\": [],\n",
            "    \"md\": {\n",
            "        \"attributes\": [],\n",
            "        \"author\": \"default\",\n",
            "        \"collectionList\": {\n",
            "            \"colList\": [\n",
            "                {\n",
            "                    \"colId\": 282926,\n",
            "                    \"colName\": \"Test Collection\",\n",
            "                    \"crowdsourcing\": false,\n",
            "                    \"description\": \"created by rianfrederick4@gmail.com\",\n",
            "                    \"elearning\": false,\n",
            "                    \"nrOfDocuments\": 0\n",
            "                }\n",
            "            ]\n",
            "        },\n",
            "        \"docId\": 1881313,\n",
            "        \"fimgStoreColl\": \"TrpDoc_DEA_1881313\",\n",
            "        \"genre\": \"default\",\n",
            "        \"mainColId\": 282926,\n",
            "        \"nrOfCharsInLines\": 0,\n",
            "        \"nrOfDone\": 0,\n",
            "        \"nrOfFinal\": 0,\n",
            "        \"nrOfGT\": 0,\n",
            "        \"nrOfInProgress\": 0,\n",
            "        \"nrOfLines\": 0,\n",
            "        \"nrOfNew\": 5,\n",
            "        \"nrOfPages\": 5,\n",
            "        \"nrOfRegions\": 0,\n",
            "        \"nrOfTranscribedLines\": 0,\n",
            "        \"nrOfTranscribedRegions\": 0,\n",
            "        \"nrOfTranscribedWords\": 0,\n",
            "        \"nrOfWords\": 0,\n",
            "        \"nrOfWordsInLines\": 0,\n",
            "        \"nrOfWordsInRegions\": 0,\n",
            "        \"origDocId\": 0,\n",
            "        \"pageId\": 66705944,\n",
            "        \"status\": 0,\n",
            "        \"thumbUrl\": \"https://files.transkribus.eu/Get?fileType=thumb&id=BNSNIKEFHMRRWTFWESKXGOKB\",\n",
            "        \"title\": \"default\",\n",
            "        \"uploadTimestamp\": 1710524148328,\n",
            "        \"uploader\": \"rianfrederick4@gmail.com\",\n",
            "        \"uploaderId\": 220701,\n",
            "        \"url\": \"https://files.transkribus.eu/Get?fileType=view&id=BNSNIKEFHMRRWTFWESKXGOKB\"\n",
            "    },\n",
            "    \"pageList\": {\n",
            "        \"pages\": [\n",
            "            {\n",
            "                \"created\": \"2024-03-15T18:35:48.449+01:00\",\n",
            "                \"docId\": 1881313,\n",
            "                \"fileSize\": 411608,\n",
            "                \"height\": 2507,\n",
            "                \"imageId\": 53378753,\n",
            "                \"imageVersions\": {\n",
            "                    \"imageVersions\": []\n",
            "                },\n",
            "                \"imgFileName\": \"nineteenth-century-song-sheets_1.jpg\",\n",
            "                \"indexed\": false,\n",
            "                \"key\": \"BNSNIKEFHMRRWTFWESKXGOKB\",\n",
            "                \"md5Sum\": \"94b6f7b02a8d11edfb131ec60e933fb3\",\n",
            "                \"pageId\": 66705944,\n",
            "                \"pageNr\": 1,\n",
            "                \"thumbUrl\": \"https://files.transkribus.eu/Get?id=BNSNIKEFHMRRWTFWESKXGOKB&fileType=thumb\",\n",
            "                \"tsList\": {\n",
            "                    \"transcripts\": [\n",
            "                        {\n",
            "                            \"docId\": 1881313,\n",
            "                            \"fileName\": \"nineteenth-century-song-sheets_1.xml\",\n",
            "                            \"fileSize\": 638,\n",
            "                            \"key\": \"EXVDAILYDCPJGUWABPRGDGDN\",\n",
            "                            \"md5Sum\": \"53c18ee5e652682dd6db5e3a610f6452\",\n",
            "                            \"nrOfCharsInLines\": 0,\n",
            "                            \"nrOfLines\": 0,\n",
            "                            \"nrOfRegions\": 0,\n",
            "                            \"nrOfTranscribedLines\": 0,\n",
            "                            \"nrOfTranscribedRegions\": 0,\n",
            "                            \"nrOfTranscribedWords\": 0,\n",
            "                            \"nrOfWords\": 0,\n",
            "                            \"nrOfWordsInLines\": 0,\n",
            "                            \"nrOfWordsInRegions\": 0,\n",
            "                            \"pageId\": 66705944,\n",
            "                            \"pageNr\": 1,\n",
            "                            \"parentTsId\": -1,\n",
            "                            \"status\": \"NEW\",\n",
            "                            \"timestamp\": 1710524148328,\n",
            "                            \"tsId\": 151769858,\n",
            "                            \"url\": \"https://files.transkribus.eu/Get?id=EXVDAILYDCPJGUWABPRGDGDN\",\n",
            "                            \"userId\": 220701,\n",
            "                            \"userName\": \"rianfrederick4@gmail.com\"\n",
            "                        }\n",
            "                    ]\n",
            "                },\n",
            "                \"url\": \"https://files.transkribus.eu/Get?id=BNSNIKEFHMRRWTFWESKXGOKB&fileType=view\",\n",
            "                \"width\": 1595\n",
            "            },\n",
            "            {\n",
            "                \"created\": \"2024-03-15T18:35:49.207+01:00\",\n",
            "                \"docId\": 1881313,\n",
            "                \"fileSize\": 640054,\n",
            "                \"height\": 2477,\n",
            "                \"imageId\": 53378754,\n",
            "                \"imageVersions\": {\n",
            "                    \"imageVersions\": []\n",
            "                },\n",
            "                \"imgFileName\": \"nineteenth-century-song-sheets_2.jpg\",\n",
            "                \"indexed\": false,\n",
            "                \"key\": \"WEYOXIHQHSCLPTZNFYXFOJMK\",\n",
            "                \"md5Sum\": \"17a2cd54936068c74c74628cfa6fe8a5\",\n",
            "                \"pageId\": 66705945,\n",
            "                \"pageNr\": 2,\n",
            "                \"thumbUrl\": \"https://files.transkribus.eu/Get?id=WEYOXIHQHSCLPTZNFYXFOJMK&fileType=thumb\",\n",
            "                \"tsList\": {\n",
            "                    \"transcripts\": [\n",
            "                        {\n",
            "                            \"docId\": 1881313,\n",
            "                            \"fileName\": \"nineteenth-century-song-sheets_2.xml\",\n",
            "                            \"fileSize\": 638,\n",
            "                            \"key\": \"LGJBDTSAMVSYUYGHUYWHBRPP\",\n",
            "                            \"md5Sum\": \"dc687ef186d962fa3d4a67d3e0eaecaf\",\n",
            "                            \"nrOfCharsInLines\": 0,\n",
            "                            \"nrOfLines\": 0,\n",
            "                            \"nrOfRegions\": 0,\n",
            "                            \"nrOfTranscribedLines\": 0,\n",
            "                            \"nrOfTranscribedRegions\": 0,\n",
            "                            \"nrOfTranscribedWords\": 0,\n",
            "                            \"nrOfWords\": 0,\n",
            "                            \"nrOfWordsInLines\": 0,\n",
            "                            \"nrOfWordsInRegions\": 0,\n",
            "                            \"pageId\": 66705945,\n",
            "                            \"pageNr\": 2,\n",
            "                            \"parentTsId\": -1,\n",
            "                            \"status\": \"NEW\",\n",
            "                            \"timestamp\": 1710524148328,\n",
            "                            \"tsId\": 151769860,\n",
            "                            \"url\": \"https://files.transkribus.eu/Get?id=LGJBDTSAMVSYUYGHUYWHBRPP\",\n",
            "                            \"userId\": 220701,\n",
            "                            \"userName\": \"rianfrederick4@gmail.com\"\n",
            "                        }\n",
            "                    ]\n",
            "                },\n",
            "                \"url\": \"https://files.transkribus.eu/Get?id=WEYOXIHQHSCLPTZNFYXFOJMK&fileType=view\",\n",
            "                \"width\": 1559\n",
            "            },\n",
            "            {\n",
            "                \"created\": \"2024-03-15T18:35:49.924+01:00\",\n",
            "                \"docId\": 1881313,\n",
            "                \"fileSize\": 664547,\n",
            "                \"height\": 2459,\n",
            "                \"imageId\": 53378755,\n",
            "                \"imageVersions\": {\n",
            "                    \"imageVersions\": []\n",
            "                },\n",
            "                \"imgFileName\": \"nineteenth-century-song-sheets_3.jpg\",\n",
            "                \"indexed\": false,\n",
            "                \"key\": \"KJHMLHOLYMQZQDWCIDQONUHV\",\n",
            "                \"md5Sum\": \"e5e90752444ed83948cd6701310ee3dc\",\n",
            "                \"pageId\": 66705946,\n",
            "                \"pageNr\": 3,\n",
            "                \"thumbUrl\": \"https://files.transkribus.eu/Get?id=KJHMLHOLYMQZQDWCIDQONUHV&fileType=thumb\",\n",
            "                \"tsList\": {\n",
            "                    \"transcripts\": [\n",
            "                        {\n",
            "                            \"docId\": 1881313,\n",
            "                            \"fileName\": \"nineteenth-century-song-sheets_3.xml\",\n",
            "                            \"fileSize\": 638,\n",
            "                            \"key\": \"QIWMWCPDFWQDQAFFBMEQXDHZ\",\n",
            "                            \"md5Sum\": \"b06fb1eedde23e7984b5d32ca83562e2\",\n",
            "                            \"nrOfCharsInLines\": 0,\n",
            "                            \"nrOfLines\": 0,\n",
            "                            \"nrOfRegions\": 0,\n",
            "                            \"nrOfTranscribedLines\": 0,\n",
            "                            \"nrOfTranscribedRegions\": 0,\n",
            "                            \"nrOfTranscribedWords\": 0,\n",
            "                            \"nrOfWords\": 0,\n",
            "                            \"nrOfWordsInLines\": 0,\n",
            "                            \"nrOfWordsInRegions\": 0,\n",
            "                            \"pageId\": 66705946,\n",
            "                            \"pageNr\": 3,\n",
            "                            \"parentTsId\": -1,\n",
            "                            \"status\": \"NEW\",\n",
            "                            \"timestamp\": 1710524148328,\n",
            "                            \"tsId\": 151769862,\n",
            "                            \"url\": \"https://files.transkribus.eu/Get?id=QIWMWCPDFWQDQAFFBMEQXDHZ\",\n",
            "                            \"userId\": 220701,\n",
            "                            \"userName\": \"rianfrederick4@gmail.com\"\n",
            "                        }\n",
            "                    ]\n",
            "                },\n",
            "                \"url\": \"https://files.transkribus.eu/Get?id=KJHMLHOLYMQZQDWCIDQONUHV&fileType=view\",\n",
            "                \"width\": 1565\n",
            "            },\n",
            "            {\n",
            "                \"created\": \"2024-03-15T18:35:50.497+01:00\",\n",
            "                \"docId\": 1881313,\n",
            "                \"fileSize\": 516058,\n",
            "                \"height\": 2478,\n",
            "                \"imageId\": 53378756,\n",
            "                \"imageVersions\": {\n",
            "                    \"imageVersions\": []\n",
            "                },\n",
            "                \"imgFileName\": \"nineteenth-century-song-sheets_4.jpg\",\n",
            "                \"indexed\": false,\n",
            "                \"key\": \"LXGIGBOIXMECRTRKXGFZSAAD\",\n",
            "                \"md5Sum\": \"b94747b54c64e8744cbbda0b31079605\",\n",
            "                \"pageId\": 66705947,\n",
            "                \"pageNr\": 4,\n",
            "                \"thumbUrl\": \"https://files.transkribus.eu/Get?id=LXGIGBOIXMECRTRKXGFZSAAD&fileType=thumb\",\n",
            "                \"tsList\": {\n",
            "                    \"transcripts\": [\n",
            "                        {\n",
            "                            \"docId\": 1881313,\n",
            "                            \"fileName\": \"nineteenth-century-song-sheets_4.xml\",\n",
            "                            \"fileSize\": 638,\n",
            "                            \"key\": \"DCNDXLQQSVFUREQYNQLCRDED\",\n",
            "                            \"md5Sum\": \"8dddb9f3ed0b0170d8fe27d249374d4f\",\n",
            "                            \"nrOfCharsInLines\": 0,\n",
            "                            \"nrOfLines\": 0,\n",
            "                            \"nrOfRegions\": 0,\n",
            "                            \"nrOfTranscribedLines\": 0,\n",
            "                            \"nrOfTranscribedRegions\": 0,\n",
            "                            \"nrOfTranscribedWords\": 0,\n",
            "                            \"nrOfWords\": 0,\n",
            "                            \"nrOfWordsInLines\": 0,\n",
            "                            \"nrOfWordsInRegions\": 0,\n",
            "                            \"pageId\": 66705947,\n",
            "                            \"pageNr\": 4,\n",
            "                            \"parentTsId\": -1,\n",
            "                            \"status\": \"NEW\",\n",
            "                            \"timestamp\": 1710524148328,\n",
            "                            \"tsId\": 151769865,\n",
            "                            \"url\": \"https://files.transkribus.eu/Get?id=DCNDXLQQSVFUREQYNQLCRDED\",\n",
            "                            \"userId\": 220701,\n",
            "                            \"userName\": \"rianfrederick4@gmail.com\"\n",
            "                        }\n",
            "                    ]\n",
            "                },\n",
            "                \"url\": \"https://files.transkribus.eu/Get?id=LXGIGBOIXMECRTRKXGFZSAAD&fileType=view\",\n",
            "                \"width\": 1596\n",
            "            },\n",
            "            {\n",
            "                \"created\": \"2024-03-15T18:35:51.103+01:00\",\n",
            "                \"docId\": 1881313,\n",
            "                \"fileSize\": 578321,\n",
            "                \"height\": 2477,\n",
            "                \"imageId\": 53378757,\n",
            "                \"imageVersions\": {\n",
            "                    \"imageVersions\": []\n",
            "                },\n",
            "                \"imgFileName\": \"nineteenth-century-song-sheets_5.jpg\",\n",
            "                \"indexed\": false,\n",
            "                \"key\": \"ILAFKQJFFXELFQLLGGMIAIHR\",\n",
            "                \"md5Sum\": \"5772460fd9778c62347d5b5ec84fdaa3\",\n",
            "                \"pageId\": 66705948,\n",
            "                \"pageNr\": 5,\n",
            "                \"thumbUrl\": \"https://files.transkribus.eu/Get?id=ILAFKQJFFXELFQLLGGMIAIHR&fileType=thumb\",\n",
            "                \"tsList\": {\n",
            "                    \"transcripts\": [\n",
            "                        {\n",
            "                            \"docId\": 1881313,\n",
            "                            \"fileName\": \"nineteenth-century-song-sheets_5.xml\",\n",
            "                            \"fileSize\": 638,\n",
            "                            \"key\": \"TAKQRAUVMTADHDJESIPPMLVH\",\n",
            "                            \"md5Sum\": \"ddca956edb4da13db7ad686b57ef3d35\",\n",
            "                            \"nrOfCharsInLines\": 0,\n",
            "                            \"nrOfLines\": 0,\n",
            "                            \"nrOfRegions\": 0,\n",
            "                            \"nrOfTranscribedLines\": 0,\n",
            "                            \"nrOfTranscribedRegions\": 0,\n",
            "                            \"nrOfTranscribedWords\": 0,\n",
            "                            \"nrOfWords\": 0,\n",
            "                            \"nrOfWordsInLines\": 0,\n",
            "                            \"nrOfWordsInRegions\": 0,\n",
            "                            \"pageId\": 66705948,\n",
            "                            \"pageNr\": 5,\n",
            "                            \"parentTsId\": -1,\n",
            "                            \"status\": \"NEW\",\n",
            "                            \"timestamp\": 1710524148328,\n",
            "                            \"tsId\": 151769867,\n",
            "                            \"url\": \"https://files.transkribus.eu/Get?id=TAKQRAUVMTADHDJESIPPMLVH\",\n",
            "                            \"userId\": 220701,\n",
            "                            \"userName\": \"rianfrederick4@gmail.com\"\n",
            "                        }\n",
            "                    ]\n",
            "                },\n",
            "                \"url\": \"https://files.transkribus.eu/Get?id=ILAFKQJFFXELFQLLGGMIAIHR&fileType=view\",\n",
            "                \"width\": 1566\n",
            "            }\n",
            "        ]\n",
            "    }\n",
            "}\n"
          ]
        }
      ]
    }
  ]
}