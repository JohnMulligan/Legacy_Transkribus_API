{
  "cells": [
    {
      "cell_type": "markdown",
      "metadata": {
        "id": "BLgg_X49eqPR"
      },
      "source": [
        "##Introduction\n",
        "\n",
        "\n",
        "\n",
        "**Transkribus API** is a sophisticated tool designed for the purposes of handwritten and printed historical document recognition. Developed by READ-COOP, it allows users to analyze, recognize, and transcribe complex historical documents via automated processing algorithms. The API provides a selection of services such as layout analysis, text recognition, and structure tagging. With Transkribus API, developers can integrate these functionalities into their applications, enhancing the process of machine learning document analysis. As an essential part of the Transkribus platform, it plays an instrumental role in automating the transcription process of historical text data.\n",
        "\n",
        "\n",
        "## Today we will transcribe the image text using Transkribus API, but first, In like order, we will take a closer look at:\n",
        "\n",
        "1. Authentication\n",
        "2. Uploading an image\n",
        "3. Initiating a transcription job\n",
        "4. Downloading the Image text Transcription\n",
        "\n",
        "\n",
        "### Here goes!\n",
        "\n",
        "\n"
      ]
    },
    {
      "cell_type": "markdown",
      "metadata": {
        "id": "OTEV0Kdntmbj"
      },
      "source": [
        "## Start by importing the `requests` library"
      ]
    },
    {
      "cell_type": "markdown",
      "metadata": {
        "id": "CsStGUdatRjt"
      },
      "source": [
        "`requests` module is imported to perform HTTP requests in Python."
      ]
    },
    {
      "cell_type": "code",
      "execution_count": 2,
      "metadata": {
        "id": "SHHIGsZofeWy"
      },
      "outputs": [],
      "source": [
        "import requests"
      ]
    },
    {
      "cell_type": "markdown",
      "metadata": {
        "id": "pIMoAFGqw7Jg"
      },
      "source": [
        "## Define building blocks for the endpoints:"
      ]
    },
    {
      "cell_type": "code",
      "execution_count": 3,
      "metadata": {
        "id": "SsTgj6dpw4cp"
      },
      "outputs": [],
      "source": [
        "\n",
        "api_base_url = \"https://transkribus.eu/TrpServer/rest/\"\n",
        "login_endpoint = \"auth/login\"\n",
        "collections_endpoint = \"collections/list\"\n",
        "logout_endpoint = \"auth/logout\""
      ]
    },
    {
      "cell_type": "markdown",
      "metadata": {
        "id": "T7tUOPwowUQX"
      },
      "source": [
        "## Log in on the Transkribus server to Access API"
      ]
    },
    {
      "cell_type": "code",
      "source": [
        "# Imports the getpass module from the Python standard library.\n",
        "import getpass\n",
        "#creates a variable named pwd and uses the getpass.getpass() function to securely prompt the user for a password.\n",
        "pwd = getpass.getpass(prompt = 'Please enter password:')\n"
      ],
      "metadata": {
        "colab": {
          "base_uri": "https://localhost:8080/"
        },
        "id": "fr8TS9YgAlxh",
        "outputId": "41cc8d40-bd02-4ec5-f539-bae969fe9bf2"
      },
      "execution_count": 4,
      "outputs": [
        {
          "name": "stdout",
          "output_type": "stream",
          "text": [
            "Please enter password:··········\n"
          ]
        }
      ]
    },
    {
      "cell_type": "code",
      "execution_count": 7,
      "metadata": {
        "colab": {
          "base_uri": "https://localhost:8080/"
        },
        "id": "D_SRCgTZqTHO",
        "outputId": "933cfa3f-a3ac-4f1b-edd1-4783969871b0"
      },
      "outputs": [
        {
          "output_type": "execute_result",
          "data": {
            "text/plain": [
              "<RequestsCookieJar[Cookie(version=0, name='JSESSIONID', value='5A52F2F5B487D21549D541C75D598C3A', port=None, port_specified=False, domain='.transkribus.eu', domain_specified=True, domain_initial_dot=False, path='/TrpServer', path_specified=True, secure=True, expires=None, discard=True, comment=None, comment_url=None, rest={'HttpOnly': None}, rfc2109=False)]>"
            ]
          },
          "metadata": {},
          "execution_count": 7
        }
      ],
      "source": [
        "# Log in:\n",
        "\n",
        "## Prepare the payload for the POST request:\n",
        "credentials = {'user': 'alexandergreene.00@gmail.com',\n",
        "               'pw': ':4qg+3@3yj)H?we'}\n",
        "#change\n",
        "# Login\n",
        "s = requests.Session()\n",
        "# A POST request is made using the 'requests' module and its response from server is captured and stored in 'response' variable.\n",
        "response = s.post('https://transkribus.eu/TrpServer/rest/auth/login', data=credentials)\n",
        "# Check that JSESSIONID has been set\n",
        "response.cookies\n"
      ]
    },
    {
      "cell_type": "markdown",
      "metadata": {
        "id": "tpR7rcjRw_Wp"
      },
      "source": [
        " ## Retrieve Collection"
      ]
    },
    {
      "cell_type": "code",
      "execution_count": 8,
      "metadata": {
        "id": "umAnX687EXIt",
        "colab": {
          "base_uri": "https://localhost:8080/"
        },
        "outputId": "2d0ff24f-96ff-410e-eeef-cf3703a8d7f8"
      },
      "outputs": [
        {
          "output_type": "stream",
          "name": "stdout",
          "text": [
            "<Response [200]>\n"
          ]
        }
      ],
      "source": [
        "# Get collections\n",
        "response = s.get('https://transkribus.eu/TrpServer/rest/collections/list')\n",
        "\n",
        "# Allow for Status Code Retrieval\n",
        "print(response)\n"
      ]
    },
    {
      "cell_type": "code",
      "source": [
        "response.json()"
      ],
      "metadata": {
        "colab": {
          "base_uri": "https://localhost:8080/"
        },
        "id": "-tBqILzhhOal",
        "outputId": "15883d02-cb36-4c73-f135-ee5b2be20bff"
      },
      "execution_count": 9,
      "outputs": [
        {
          "output_type": "execute_result",
          "data": {
            "text/plain": [
              "[{'type': 'trpCollection',\n",
              "  'colId': 288233,\n",
              "  'colName': 'Test ',\n",
              "  'description': 'created by alexandergreene.00@gmail.com',\n",
              "  'created': '2024-03-12T03:35:57.962+01:00',\n",
              "  'crowdsourcing': False,\n",
              "  'elearning': False,\n",
              "  'pageId': 66541009,\n",
              "  'url': 'https://files.transkribus.eu/Get?fileType=view&id=EMSXDSIAWDEMCNYBOWDONRDA',\n",
              "  'thumbUrl': 'https://files.transkribus.eu/Get?fileType=thumb&id=EMSXDSIAWDEMCNYBOWDONRDA',\n",
              "  'nrOfDocuments': 1,\n",
              "  'role': 'Owner',\n",
              "  'accountingStatus': 1}]"
            ]
          },
          "metadata": {},
          "execution_count": 9
        }
      ]
    },
    {
      "cell_type": "markdown",
      "metadata": {
        "id": "Rp7E87lc34h6"
      },
      "source": [
        "\n",
        "\n",
        "## Initiating a Transcription Job\n"
      ]
    },
    {
      "cell_type": "code",
      "execution_count": 11,
      "metadata": {
        "colab": {
          "base_uri": "https://localhost:8080/"
        },
        "id": "mP0hQsUJ80SF",
        "outputId": "3332e620-ab75-4e97-a25a-9d3687182501"
      },
      "outputs": [
        {
          "output_type": "stream",
          "name": "stdout",
          "text": [
            "Upload process started successfully!\n",
            "<?xml version=\"1.0\" encoding=\"UTF-8\" standalone=\"yes\"?><trpUpload><md><docId>-1</docId><title>default</title><author>default</author><uploadTimestamp>0</uploadTimestamp><genre>default</genre><writer>default</writer><uploaderId>0</uploaderId><nrOfPages>0</nrOfPages><collectionList/></md><pageList><pages><fileName>Transcribed_Image.jpg</fileName><pageUploaded>false</pageUploaded><pageNr>1</pageNr></pages></pageList><uploadId>1880886</uploadId><created>2024-03-15T15:45:00.087+01:00</created><userId>223150</userId><userName>alexandergreene.00@gmail.com</userName><nrOfPagesTotal>1</nrOfPagesTotal><uploadType>JSON</uploadType><colId>288233</colId></trpUpload>\n"
          ]
        }
      ],
      "source": [
        "# Define the URL for the upload endpoint\n",
        "url = \"https://transkribus.eu/TrpServer/rest/uploads?collId=288233\"\n",
        "\n",
        "# Define your session ID\n",
        "session_id = \"5A52F2F5B487D21549D541C75D598C3A\"\n",
        "params = {\"JSESSIONID\": session_id}\n",
        "\n",
        "# Define Document Metadata\n",
        "metadata = {\n",
        "  \"md\": {\n",
        "    \"title\": \"default\",\n",
        "    \"author\": \"default\",\n",
        "    \"genre\": \"default\",\n",
        "    \"writer\": \"default\"\n",
        "  },\n",
        "  \"pageList\": {\n",
        "    \"pages\": [\n",
        "      {\n",
        "        \"fileName\": \"Transcribed_Image.jpg\",\n",
        "        \"pageNr\": 1\n",
        "      }\n",
        "    ]\n",
        "  }\n",
        "}\n",
        "headers = {\n",
        "    \"Content-Type\": \"application/json\"\n",
        "}\n",
        "# Start the upload process\n",
        "response = requests.post(url, params=params, json=metadata, headers=headers)\n",
        "\n",
        "if response.status_code == 200:\n",
        "    print(\"Upload process started successfully!\")\n",
        "else:\n",
        "    print(f\"Failed to start upload process. Status code: {response.status_code}\")\n",
        "\n",
        "print(response.text)"
      ]
    },
    {
      "cell_type": "markdown",
      "metadata": {
        "id": "mD4KlTGB-2-x"
      },
      "source": [
        "## Upload Image"
      ]
    },
    {
      "cell_type": "code",
      "source": [
        "#Upload ID at end of URL\n",
        "url = \"https://transkribus.eu/TrpServer/rest/uploads/1880886\"\n",
        "\n",
        "img_file_path = 'Transcribed_Image.jpg'\n",
        "\n",
        "files = {'img': open('Transcribed_Image.jpg','rb')}\n",
        "\n",
        "# Replace with the actual upload ID obtained from the initial request\n",
        "\n",
        "response = requests.put(url , params=params, files = files)\n",
        "\n",
        "    # Check if the request was successful\n",
        "if response.status_code == 200:\n",
        "        print(\"File uploaded successfully!\")\n",
        "else:\n",
        "        print(f\"Failed to upload file. Status code: {response.status_code}\")\n",
        "\n",
        "print(response.text)"
      ],
      "metadata": {
        "id": "PquWmt9aClrn",
        "colab": {
          "base_uri": "https://localhost:8080/"
        },
        "outputId": "d950a111-ae85-4f9b-cbd3-7588ea139ce4"
      },
      "execution_count": 22,
      "outputs": [
        {
          "output_type": "stream",
          "name": "stdout",
          "text": [
            "File uploaded successfully!\n",
            "<?xml version=\"1.0\" encoding=\"UTF-8\" standalone=\"yes\"?><trpUpload><md><docId>-1</docId><title>default</title><author>default</author><uploadTimestamp>0</uploadTimestamp><genre>default</genre><writer>default</writer><uploaderId>0</uploaderId><nrOfPages>0</nrOfPages><collectionList/></md><pageList><pages><fileName>Transcribed_Image.jpg</fileName><pageUploaded>true</pageUploaded><pageNr>1</pageNr></pages></pageList><uploadId>1880886</uploadId><created>2024-03-15T15:45:00.087+01:00</created><finished>2024-03-15T16:11:00.854+01:00</finished><userId>223150</userId><userName>alexandergreene.00@gmail.com</userName><nrOfPagesTotal>1</nrOfPagesTotal><uploadType>JSON</uploadType><jobId>8382290</jobId><colId>288233</colId></trpUpload>\n"
          ]
        }
      ]
    }
  ],
  "metadata": {
    "colab": {
      "provenance": []
    },
    "kernelspec": {
      "display_name": "Python 3",
      "name": "python3"
    },
    "language_info": {
      "codemirror_mode": {
        "name": "ipython",
        "version": 3
      },
      "file_extension": ".py",
      "mimetype": "text/x-python",
      "name": "python",
      "nbconvert_exporter": "python",
      "pygments_lexer": "ipython3",
      "version": "3.11.5"
    }
  },
  "nbformat": 4,
  "nbformat_minor": 0
}