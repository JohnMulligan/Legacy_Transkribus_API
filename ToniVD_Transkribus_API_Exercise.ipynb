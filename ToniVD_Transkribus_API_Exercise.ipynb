{
 "cells": [
  {
   "cell_type": "markdown",
   "id": "e68c75f6",
   "metadata": {},
   "source": [
    "# Transkribus API Exercise \n",
    "\n",
    " [__API Documentation__](https://readcoop.eu/transkribus/docu/rest-api/)"
   ]
  },
  {
   "cell_type": "markdown",
   "id": "fdf49126",
   "metadata": {},
   "source": [
    "## Import Modules\n",
    "\n",
    "* [__requets__](https://requests.readthedocs.io/en/latest/): To send HTTP requests to API\n",
    "* [__os__](https://docs.python.org/3/library/os.html): To get secrets (email,password) from .env file\n",
    "* [__dotenv__](https://pypi.org/project/python-dotenv/#load-env-files-in-ipython): To load .env file with secrets into script\n",
    "* [__lxml__](https://lxml.de/index.html#documentation): To process XML responses from the API "
   ]
  },
  {
   "cell_type": "code",
   "execution_count": 32,
   "id": "cc0e0909",
   "metadata": {},
   "outputs": [],
   "source": [
    "import requests\n",
    "import os\n",
    "from dotenv import load_dotenv\n",
    "from lxml import etree"
   ]
  },
  {
   "cell_type": "markdown",
   "id": "e98d43a1",
   "metadata": {},
   "source": [
    "## Authentication\n",
    "\n",
    "The _authentication_ function sends a post request with login credentials from .env file to login URL, processes the XML reponse from the API to find and return the session ID. \n",
    "\n",
    "All subsequent requests must include the session ID (within the cookies or URL params). "
   ]
  },
  {
   "cell_type": "code",
   "execution_count": 33,
   "id": "27fb8789",
   "metadata": {},
   "outputs": [
    {
     "name": "stdout",
     "output_type": "stream",
     "text": [
      "{'JSESSIONID': 'B08AE8F1CF547690C3D148C9A1F37F26'}\n"
     ]
    }
   ],
   "source": [
    "def authentication():    \n",
    "\n",
    "    login_url = \"https://transkribus.eu/TrpServer/rest/auth/login\"\n",
    "\n",
    "    load_dotenv('.env')\n",
    "    user = os.getenv(\"EMAIL\")\n",
    "    pw = os.getenv(\"PASSWORD\")\n",
    "\n",
    "    login_credentials = {\n",
    "        \"user\" : user,\n",
    "        \"pw\" : pw\n",
    "    }\n",
    "\n",
    "    response = requests.post(login_url, data=login_credentials)\n",
    "    \n",
    "\n",
    "    response.raise_for_status()\n",
    "        \n",
    "        \n",
    "    auth_root = etree.fromstring(response.content)\n",
    "\n",
    "    for child in auth_root:\n",
    "        if child.tag == \"sessionId\":\n",
    "            JSESSIONID = child.text\n",
    "\n",
    "    sessionId = {\n",
    "        \"JSESSIONID\":JSESSIONID\n",
    "    }\n",
    "\n",
    "    return sessionId\n",
    "\n",
    "print(authentication())\n",
    "\n",
    "sessionId = authentication()"
   ]
  },
  {
   "cell_type": "markdown",
   "id": "d0765954",
   "metadata": {},
   "source": [
    "## Get Collection ID\n",
    "\n",
    "The _get_collectionId_ function accepts the sessionID as a parameter, sends a get request to the collection list URL, gets the  JSON response from the API to find and return the collection ID.\n",
    "\n",
    "The JSON response is a dictionary within a list"
   ]
  },
  {
   "cell_type": "code",
   "execution_count": 68,
   "id": "28c1ba5b",
   "metadata": {},
   "outputs": [
    {
     "name": "stdout",
     "output_type": "stream",
     "text": [
      "284395\n"
     ]
    }
   ],
   "source": [
    "def get_collectionId(sessionId):\n",
    "    \n",
    "    collection_url = \"https://transkribus.eu/TrpServer/rest/collections/list\"\n",
    "    collection_response = requests.get(\"https://transkribus.eu/TrpServer/rest/collections/list\", cookies = sessionId)\n",
    "    \n",
    "    collection_response.raise_for_status()\n",
    "    \n",
    "    colId = collection_response.json()[0][\"colId\"] \n",
    "    \n",
    "    return colId\n",
    "\n",
    "print(get_collectionId(authentication()))\n",
    "\n",
    "colId = get_collectionId(sessionId)"
   ]
  },
  {
   "cell_type": "markdown",
   "id": "03ba7b2a",
   "metadata": {},
   "source": [
    "## Upload an Image\n",
    "\n",
    "[API Documentation to Upload an Image](https://readcoop.eu/transkribus/docu/rest-api/upload/)\n",
    "\n",
    "The _upload_image_ function accepts the session and collection IDs as parameters, sends a post request to the upload url with the relevant header content type settings, image metadata, session and collection ID. \n",
    "\n",
    "Afterwards it processes the XML reponse from the API to find the upload ID, sends put request to the upload file data URL with the image file binary data, session and upload ID. \n",
    "\n",
    "After that it processes the XML reponse from the API to find and return the job ID."
   ]
  },
  {
   "cell_type": "code",
   "execution_count": 71,
   "id": "567373cc",
   "metadata": {},
   "outputs": [
    {
     "name": "stdout",
     "output_type": "stream",
     "text": [
      "200\n",
      "<?xml version=\"1.0\" encoding=\"UTF-8\" standalone=\"yes\"?><trpUpload><md><docId>-1</docId><title>Something</title><author>Somebody</author><uploadTimestamp>0</uploadTimestamp><genre>Some Genre</genre><writer>Someone</writer><uploaderId>0</uploaderId><nrOfPages>0</nrOfPages><collectionList/></md><pageList><pages><fileName>default2.jpg</fileName><pageUploaded>true</pageUploaded><pageNr>1</pageNr></pages></pageList><uploadId>1874308</uploadId><created>2024-03-12T02:51:58.921+01:00</created><finished>2024-03-12T02:52:06.211+01:00</finished><userId>223154</userId><userName>vividrakes2147@gmail.com</userName><nrOfPagesTotal>1</nrOfPagesTotal><uploadType>JSON</uploadType><jobId>8327963</jobId><colId>284395</colId></trpUpload>\n",
      "8327963\n"
     ]
    }
   ],
   "source": [
    "def upload_image(sessionId, colId):\n",
    "\n",
    "    upload_url = f\"https://transkribus.eu/TrpServer/rest/uploads?collId={colId}\"\n",
    "\n",
    "    headers = {\n",
    "        \"content_type\" : \"application/json\"\n",
    "    }\n",
    "\n",
    "    img = {\n",
    "    \"md\": {\n",
    "        \"title\": \"Something\",\n",
    "        \"author\": \"Somebody\",\n",
    "        \"genre\": \"Some Genre\",\n",
    "        \"writer\": \"Someone\"\n",
    "    },\n",
    "    \"pageList\": {\"pages\": [\n",
    "        {\n",
    "            \"fileName\": \"default2.jpg\",\n",
    "            \"pageNr\": 1\n",
    "        }\n",
    "    ]}\n",
    "    }\n",
    "\n",
    "\n",
    "    upload_response = requests.post(upload_url, cookies = sessionId, json=img, headers=headers)\n",
    "\n",
    "    upload_response.raise_for_status()\n",
    "\n",
    "    upload_root = etree.fromstring(upload_response.content)\n",
    "\n",
    "    for child in upload_root:\n",
    "        if child.tag == \"uploadId\":\n",
    "            uploadId = child.text\n",
    "\n",
    "\n",
    "    uploadfile_url =f\"https://transkribus.eu/TrpServer/rest/uploads/{uploadId}\"\n",
    "\n",
    "    file = {'img': open('default2.jpg', 'rb')} #rb: Read Binary\n",
    "\n",
    "    uploadfile_response = requests.put(uploadfile_url, cookies = sessionId, files=file)\n",
    "\n",
    "    uploadfile_response.raise_for_status()\n",
    "\n",
    "    print(uploadfile_response.status_code)\n",
    "\n",
    "    print(uploadfile_response.text)\n",
    "\n",
    "\n",
    "    uploadfile_root = etree.fromstring(uploadfile_response.content)\n",
    "\n",
    "    for c in uploadfile_root:\n",
    "        if c.tag == \"jobId\":\n",
    "            jobId = c.text\n",
    "\n",
    "    return jobId\n",
    "\n",
    "jobId = upload_image(sessionId=sessionId,colId=colId)\n",
    "\n",
    "\n",
    "print(jobId)\n",
    "\n"
   ]
  },
  {
   "cell_type": "markdown",
   "id": "1df9812e",
   "metadata": {},
   "source": [
    "## Upload Multiple Images\n",
    "\n",
    "[API Documentation to Upload Images](https://readcoop.eu/transkribus/docu/rest-api/upload/)\n",
    "\n",
    "The _upload_image_ function accepts the session and collection IDs as parameters, sends a post request to the upload url with the relevant header content type settings, image metadata (containing multiple pages in the \"pageList\" key), session and collection ID. \n",
    "\n",
    "Afterwards it processes the XML reponse from the API to find the upload ID, sends put request to the upload file data URL with  session ID, upload ID and the binary data from the image files using a for loop. \n",
    "\n",
    "After that it processes the XML reponse from the API to find and return the job ID."
   ]
  },
  {
   "cell_type": "code",
   "execution_count": 66,
   "id": "546ea7ca",
   "metadata": {},
   "outputs": [
    {
     "name": "stdout",
     "output_type": "stream",
     "text": [
      "X.jpg\n",
      "200\n",
      "<?xml version=\"1.0\" encoding=\"UTF-8\" standalone=\"yes\"?><trpUpload><md><docId>-1</docId><title>Multiple_Test</title><author>Somebody</author><uploadTimestamp>0</uploadTimestamp><genre>Some Genre</genre><writer>Someone</writer><uploaderId>0</uploaderId><nrOfPages>0</nrOfPages><collectionList/></md><pageList><pages><fileName>X.jpg</fileName><pageUploaded>true</pageUploaded><pageNr>1</pageNr></pages><pages><fileName>Y.jpg</fileName><pageUploaded>false</pageUploaded><pageNr>2</pageNr></pages></pageList><uploadId>1874306</uploadId><created>2024-03-12T02:43:44.876+01:00</created><userId>223154</userId><userName>vividrakes2147@gmail.com</userName><nrOfPagesTotal>2</nrOfPagesTotal><uploadType>JSON</uploadType><colId>284395</colId></trpUpload>\n",
      "Y.jpg\n",
      "200\n",
      "<?xml version=\"1.0\" encoding=\"UTF-8\" standalone=\"yes\"?><trpUpload><md><docId>-1</docId><title>Multiple_Test</title><author>Somebody</author><uploadTimestamp>0</uploadTimestamp><genre>Some Genre</genre><writer>Someone</writer><uploaderId>0</uploaderId><nrOfPages>0</nrOfPages><collectionList/></md><pageList><pages><fileName>X.jpg</fileName><pageUploaded>true</pageUploaded><pageNr>1</pageNr></pages><pages><fileName>Y.jpg</fileName><pageUploaded>true</pageUploaded><pageNr>2</pageNr></pages></pageList><uploadId>1874306</uploadId><created>2024-03-12T02:43:44.876+01:00</created><finished>2024-03-12T02:43:54.197+01:00</finished><userId>223154</userId><userName>vividrakes2147@gmail.com</userName><nrOfPagesTotal>2</nrOfPagesTotal><uploadType>JSON</uploadType><jobId>8327960</jobId><colId>284395</colId></trpUpload>\n",
      "8327960\n"
     ]
    }
   ],
   "source": [
    "def upload_multiple_images(sessionId, colId):\n",
    "    upload_url = f\"https://transkribus.eu/TrpServer/rest/uploads?collId={colId}\"\n",
    "\n",
    "    headers = {\n",
    "        \"content_type\" : \"application/json\"\n",
    "    }\n",
    "\n",
    "    img = {\n",
    "    \"md\": {\n",
    "        \"title\": \"Multiple_Test\",\n",
    "        \"author\": \"Somebody\",\n",
    "        \"genre\": \"Some Genre\",\n",
    "        \"writer\": \"Someone\"\n",
    "    },\n",
    "    \"pageList\": {\"pages\": [\n",
    "        {\n",
    "            \"fileName\": \"X.jpg\",\n",
    "            \"pageNr\": 1 #Page Number 1\n",
    "        },\n",
    "        {\n",
    "            \"fileName\": \"Y.jpg\",\n",
    "            \"pageNr\": 2 #Page Number 2\n",
    "        }\n",
    "    ]}\n",
    "    }\n",
    "\n",
    "\n",
    "    upload_response = requests.post(upload_url, cookies = sessionId, json=img, headers=headers)\n",
    "\n",
    "    upload_response.raise_for_status()\n",
    "\n",
    "    upload_root = etree.fromstring(upload_response.content)\n",
    "\n",
    "    for child in upload_root:\n",
    "        if child.tag == \"uploadId\":\n",
    "            uploadId = child.text\n",
    "\n",
    "\n",
    "    uploadfile_url =f\"https://transkribus.eu/TrpServer/rest/uploads/{uploadId}\"\n",
    "\n",
    "    pages = img[\"pageList\"][\"pages\"]\n",
    "\n",
    "\n",
    "    for page in pages:\n",
    "        print(page[\"fileName\"]) \n",
    "\n",
    "        file = {'img': open(page[\"fileName\"], 'rb')} #rb: Read Binary\n",
    "\n",
    "        uploadfile_response = requests.put(uploadfile_url, cookies = sessionId, files=file)\n",
    "\n",
    "        uploadfile_response.raise_for_status()\n",
    "\n",
    "        print(uploadfile_response.status_code)\n",
    "\n",
    "        print(uploadfile_response.text) #Doc ID is -1??? \n",
    "\n",
    "\n",
    "    uploadfile_root = etree.fromstring(uploadfile_response.content)\n",
    "\n",
    "    for c in uploadfile_root:\n",
    "         if c.tag == \"jobId\":\n",
    "            jobId = c.text\n",
    "\n",
    "    print(jobId)\n",
    "    return jobId\n",
    "\n",
    "jobId= upload_multiple_images(sessionId=sessionId, colId=colId)"
   ]
  },
  {
   "cell_type": "markdown",
   "id": "a7654460",
   "metadata": {},
   "source": [
    "## Start OCR\n",
    "\n",
    "This not working. \n",
    "\n"
   ]
  },
  {
   "cell_type": "code",
   "execution_count": 82,
   "id": "529cee44",
   "metadata": {},
   "outputs": [
    {
     "name": "stdout",
     "output_type": "stream",
     "text": [
      "1874308\n"
     ]
    },
    {
     "ename": "HTTPError",
     "evalue": "403 Client Error: 403 for url: https://transkribus.eu/TrpServer/rest/recognition/ocr?collId=284395&id=1874308&pages=1",
     "output_type": "error",
     "traceback": [
      "\u001b[1;31m---------------------------------------------------------------------------\u001b[0m",
      "\u001b[1;31mHTTPError\u001b[0m                                 Traceback (most recent call last)",
      "Cell \u001b[1;32mIn[82], line 20\u001b[0m\n\u001b[0;32m     16\u001b[0m OCR_URL\u001b[38;5;241m=\u001b[39m\u001b[38;5;124mf\u001b[39m\u001b[38;5;124m\"\u001b[39m\u001b[38;5;124mhttps://transkribus.eu/TrpServer/rest/recognition/ocr?collId=\u001b[39m\u001b[38;5;132;01m{\u001b[39;00mcolId\u001b[38;5;132;01m}\u001b[39;00m\u001b[38;5;124m&id=\u001b[39m\u001b[38;5;132;01m{\u001b[39;00mdocId\u001b[38;5;132;01m}\u001b[39;00m\u001b[38;5;124m&pages=\u001b[39m\u001b[38;5;132;01m{\u001b[39;00mpages\u001b[38;5;132;01m}\u001b[39;00m\u001b[38;5;124m\"\u001b[39m\n\u001b[0;32m     18\u001b[0m OCR_response \u001b[38;5;241m=\u001b[39m requests\u001b[38;5;241m.\u001b[39mpost(OCR_URL, cookies \u001b[38;5;241m=\u001b[39m sessionId)\n\u001b[1;32m---> 20\u001b[0m OCR_response\u001b[38;5;241m.\u001b[39mraise_for_status()\n",
      "File \u001b[1;32m~\\anaconda3\\Lib\\site-packages\\requests\\models.py:1021\u001b[0m, in \u001b[0;36mResponse.raise_for_status\u001b[1;34m(self)\u001b[0m\n\u001b[0;32m   1016\u001b[0m     http_error_msg \u001b[38;5;241m=\u001b[39m (\n\u001b[0;32m   1017\u001b[0m         \u001b[38;5;124mf\u001b[39m\u001b[38;5;124m\"\u001b[39m\u001b[38;5;132;01m{\u001b[39;00m\u001b[38;5;28mself\u001b[39m\u001b[38;5;241m.\u001b[39mstatus_code\u001b[38;5;132;01m}\u001b[39;00m\u001b[38;5;124m Server Error: \u001b[39m\u001b[38;5;132;01m{\u001b[39;00mreason\u001b[38;5;132;01m}\u001b[39;00m\u001b[38;5;124m for url: \u001b[39m\u001b[38;5;132;01m{\u001b[39;00m\u001b[38;5;28mself\u001b[39m\u001b[38;5;241m.\u001b[39murl\u001b[38;5;132;01m}\u001b[39;00m\u001b[38;5;124m\"\u001b[39m\n\u001b[0;32m   1018\u001b[0m     )\n\u001b[0;32m   1020\u001b[0m \u001b[38;5;28;01mif\u001b[39;00m http_error_msg:\n\u001b[1;32m-> 1021\u001b[0m     \u001b[38;5;28;01mraise\u001b[39;00m HTTPError(http_error_msg, response\u001b[38;5;241m=\u001b[39m\u001b[38;5;28mself\u001b[39m)\n",
      "\u001b[1;31mHTTPError\u001b[0m: 403 Client Error: 403 for url: https://transkribus.eu/TrpServer/rest/recognition/ocr?collId=284395&id=1874308&pages=1"
     ]
    }
   ],
   "source": [
    "\n",
    "\n",
    "collection_md_url = f\"https://transkribus.eu/TrpServer/rest/collections/{colId}/list\"\n",
    "\n",
    "collection_md_response = requests.get(collection_md_url , cookies = sessionId)\n",
    "\n",
    "collection_md_response.raise_for_status()\n",
    "\n",
    "collection_md_response.text\n",
    "\n",
    "docId = collection_md_response.json()[2][\"docId\"] \n",
    "print(docId)\n",
    "\n",
    "\n",
    "pages = 1\n",
    " \n",
    "\n",
    "OCR_URL=f\"https://transkribus.eu/TrpServer/rest/recognition/ocr?collId={colId}&id={docId}&pages={pages}\"\n",
    "\n",
    "OCR_response = requests.post(OCR_URL, cookies = sessionId)\n",
    "\n",
    "OCR_response.raise_for_status() \n",
    "\n",
    "#HTTPError 403: Forbidden "
   ]
  },
  {
   "cell_type": "code",
   "execution_count": null,
   "id": "471361d4",
   "metadata": {},
   "outputs": [],
   "source": []
  }
 ],
 "metadata": {
  "kernelspec": {
   "display_name": "Python 3 (ipykernel)",
   "language": "python",
   "name": "python3"
  },
  "language_info": {
   "codemirror_mode": {
    "name": "ipython",
    "version": 3
   },
   "file_extension": ".py",
   "mimetype": "text/x-python",
   "name": "python",
   "nbconvert_exporter": "python",
   "pygments_lexer": "ipython3",
   "version": "3.11.5"
  }
 },
 "nbformat": 4,
 "nbformat_minor": 5
}
