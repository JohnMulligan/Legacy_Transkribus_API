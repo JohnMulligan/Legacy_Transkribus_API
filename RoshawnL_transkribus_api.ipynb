{
  "nbformat": 4,
  "nbformat_minor": 0,
  "metadata": {
    "colab": {
      "provenance": []
    },
    "kernelspec": {
      "name": "python3",
      "display_name": "Python 3"
    },
    "language_info": {
      "name": "python"
    }
  },
  "cells": [
    {
      "cell_type": "markdown",
      "source": [
        "# Transkribus API Exercise\n",
        "\n",
        "The tasks to complete in this exercise were:\n",
        "\n",
        "1. Authenticate\n",
        "2. Upload an image\n",
        "3. Kick off a transcription job(through web interface)\n",
        "4. Download the completed text transcription of the image\n",
        "\n",
        "###Authenticate\n",
        "The first task was done by posting the username and password to the correct url. This returned the user information if the details were entered correctly including the session ID which must be used for all subsuquent requests to the server. This can be seen using the below code:"
      ],
      "metadata": {
        "id": "cdDPpcl5R52J"
      }
    },
    {
      "cell_type": "code",
      "execution_count": 1,
      "metadata": {
        "colab": {
          "base_uri": "https://localhost:8080/"
        },
        "id": "WhNv0Dzq0X7X",
        "outputId": "5ac50b7c-9d64-490d-9b33-7d7ffdf6defb"
      },
      "outputs": [
        {
          "output_type": "stream",
          "name": "stdout",
          "text": [
            "<?xml version=\"1.0\" encoding=\"UTF-8\" standalone=\"yes\"?><trpUserLogin><userId>223155</userId><userName>roshawnlayne@gmail.com</userName><email>roshawnlayne@gmail.com</email><affiliation>None</affiliation><firstname>Roshawn</firstname><lastname>Layne</lastname><gender>unknown</gender><userRoleList>User</userRoleList><isActive>1</isActive><isAdmin>false</isAdmin><created>2024-03-01T16:14:55.925+01:00</created><loginTime>2024-03-14T17:24:06.759+01:00</loginTime><sessionId>CB3B72EFC83A43C82C576F5DA24839F3</sessionId><userAgent>python-requests/2.31.0</userAgent><ip>34.172.54.68</ip></trpUserLogin>\n"
          ]
        },
        {
          "output_type": "execute_result",
          "data": {
            "text/plain": [
              "200"
            ]
          },
          "metadata": {},
          "execution_count": 1
        }
      ],
      "source": [
        "##Login to Transkribus\n",
        "\n",
        "import requests\n",
        "\n",
        "r = requests.post('https://transkribus.eu/TrpServer/rest/auth/login', data={'user': '', 'pw': ''})\n",
        "\n",
        "print(r.text)\n",
        "\n",
        "r.status_code\n"
      ]
    },
    {
      "cell_type": "markdown",
      "source": [
        "###Upload an image\n",
        "In order to upload an image through the API, the collection id must be found so that the upload can be placed in the users preferred collection. The below code returns details such as the collections belonging to the user along with the name, id, creation date and more."
      ],
      "metadata": {
        "id": "6i-PGxk7UWq7"
      }
    },
    {
      "cell_type": "code",
      "source": [
        "##Get list of collections\n",
        "\n",
        "SessionID = {'JSESSIONID': 'CB3B72EFC83A43C82C576F5DA24839F3'}\n",
        "\n",
        "r = requests.get('https://transkribus.eu/TrpServer/rest/collections/list', params = SessionID)\n",
        "\n",
        "print(r.text)\n"
      ],
      "metadata": {
        "colab": {
          "base_uri": "https://localhost:8080/"
        },
        "id": "pxtoCWZ_PZgn",
        "outputId": "2a45830d-8bc0-487e-91f2-51a0a6ce5b4d"
      },
      "execution_count": 2,
      "outputs": [
        {
          "output_type": "stream",
          "name": "stdout",
          "text": [
            "[{\"type\":\"trpCollection\",\"colId\":284396,\"colName\":\"roshawnlayne@gmail.com Collection\",\"description\":\"roshawnlayne@gmail.com\",\"created\":\"2024-03-01T16:14:55.981+01:00\",\"crowdsourcing\":false,\"elearning\":false,\"pageId\":65923155,\"url\":\"https://files.transkribus.eu/Get?fileType=view&id=DAEQZNPMDNXLWKBWOHOHPWDD\",\"thumbUrl\":\"https://files.transkribus.eu/Get?fileType=thumb&id=DAEQZNPMDNXLWKBWOHOHPWDD\",\"nrOfDocuments\":9,\"role\":\"Owner\",\"accountingStatus\":1}]\n"
          ]
        }
      ]
    },
    {
      "cell_type": "code",
      "source": [
        "##Get documents from specific collection\n",
        "\n",
        "r = requests.get('https://transkribus.eu/TrpServer/rest/collections/284396/list', params = SessionID)\n",
        "\n",
        "print(r.text)\n"
      ],
      "metadata": {
        "colab": {
          "base_uri": "https://localhost:8080/"
        },
        "id": "tTHX1lvMTpuf",
        "outputId": "4fe9e6fa-b536-4fd1-b5d6-b84227c63650"
      },
      "execution_count": null,
      "outputs": [
        {
          "output_type": "stream",
          "name": "stdout",
          "text": [
            "[{\"type\":\"trpDocMetadata\",\"docId\":1855039,\"title\":\"Germknödel (Sample Document)\",\"uploadTimestamp\":1709306096515,\"uploader\":\"roshawnlayne@gmail.com\",\"uploaderId\":223155,\"nrOfPages\":1,\"pageId\":65923155,\"url\":\"https://files.transkribus.eu/Get?fileType=view&id=DAEQZNPMDNXLWKBWOHOHPWDD\",\"thumbUrl\":\"https://files.transkribus.eu/Get?fileType=thumb&id=DAEQZNPMDNXLWKBWOHOHPWDD\",\"status\":0,\"fimgStoreColl\":\"TrpDoc_DEA_889295\",\"origDocId\":889295,\"collectionList\":{\"colList\":[{\"colId\":284396,\"colName\":\"roshawnlayne@gmail.com Collection\",\"description\":\"roshawnlayne@gmail.com\",\"crowdsourcing\":false,\"elearning\":false,\"nrOfDocuments\":0}]},\"attributes\":[],\"mainColId\":284396,\"isInMain\":true},{\"type\":\"trpDocMetadata\",\"docId\":1858541,\"title\":\"default\",\"uploadTimestamp\":1709484858490,\"uploader\":\"roshawnlayne@gmail.com\",\"uploaderId\":223155,\"nrOfPages\":1,\"pageId\":65988273,\"url\":\"https://files.transkribus.eu/Get?fileType=view&id=SSKOFISIMHKRUJVUAYFJBCUP\",\"thumbUrl\":\"https://files.transkribus.eu/Get?fileType=thumb&id=SSKOFISIMHKRUJVUAYFJBCUP\",\"status\":0,\"fimgStoreColl\":\"TrpDoc_DEA_1858541\",\"origDocId\":0,\"collectionList\":{\"colList\":[{\"colId\":284396,\"colName\":\"roshawnlayne@gmail.com Collection\",\"description\":\"roshawnlayne@gmail.com\",\"crowdsourcing\":false,\"elearning\":false,\"nrOfDocuments\":0}]},\"attributes\":[],\"mainColId\":284396,\"isInMain\":true}]\n"
          ]
        },
        {
          "output_type": "execute_result",
          "data": {
            "text/plain": [
              "{'Date': 'Wed, 06 Mar 2024 18:09:45 GMT', 'Server': 'Apache/2.4.6 (CentOS) OpenSSL/1.0.2k-fips PHP/5.4.16', 'Content-Type': 'application/json;charset=utf-8', 'Vary': 'Accept-Encoding', 'Content-Encoding': 'gzip', 'Content-Length': '496', 'Keep-Alive': 'timeout=5, max=100', 'Connection': 'Keep-Alive'}"
            ]
          },
          "metadata": {},
          "execution_count": 8
        }
      ]
    },
    {
      "cell_type": "markdown",
      "source": [
        "The below code is used to get a upload ID. The metadata of the document to be uploaded must be described."
      ],
      "metadata": {
        "id": "FS7b5L_7VsK0"
      }
    },
    {
      "cell_type": "code",
      "source": [
        "metadata = {\n",
        "  'md': {\n",
        "        'title': 'default',\n",
        "        \"author\": \"default\",\n",
        "        \"genre\": \"default\",\n",
        "        \"writer\": \"default\"\n",
        "  },\n",
        "  'pageList': {\n",
        "      'pages':[\n",
        "          {\n",
        "            'fileName': 'default.jpg',\n",
        "            'pageNr': 1,\n",
        "          }\n",
        "      ]\n",
        "  }\n",
        "}\n",
        "\n",
        "r = requests.post('https://transkribus.eu/TrpServer/rest/uploads?collId=284396', params = SessionID, json = metadata)\n",
        "\n",
        "print(r.text)\n"
      ],
      "metadata": {
        "colab": {
          "base_uri": "https://localhost:8080/"
        },
        "id": "9wQbnQx16y7-",
        "outputId": "1044085d-c675-4899-9458-3cfa5650182e"
      },
      "execution_count": null,
      "outputs": [
        {
          "output_type": "stream",
          "name": "stdout",
          "text": [
            "<?xml version=\"1.0\" encoding=\"UTF-8\" standalone=\"yes\"?><trpUpload><md><docId>-1</docId><title>default</title><author>default</author><uploadTimestamp>0</uploadTimestamp><genre>default</genre><writer>default</writer><uploaderId>0</uploaderId><nrOfPages>0</nrOfPages><collectionList/></md><pageList><pages><fileName>default.jpg</fileName><pageUploaded>false</pageUploaded><pageNr>1</pageNr></pages></pageList><uploadId>1866934</uploadId><created>2024-03-07T18:49:46.328+01:00</created><userId>223155</userId><userName>roshawnlayne@gmail.com</userName><nrOfPagesTotal>1</nrOfPagesTotal><uploadType>JSON</uploadType><colId>284396</colId></trpUpload>\n"
          ]
        }
      ]
    },
    {
      "cell_type": "markdown",
      "source": [
        "The below was used to import files from the drive:"
      ],
      "metadata": {
        "id": "GBlRWk27yTIf"
      }
    },
    {
      "cell_type": "code",
      "source": [
        "from google.colab import files"
      ],
      "metadata": {
        "id": "fN3g0Na3V8gd"
      },
      "execution_count": null,
      "outputs": []
    },
    {
      "cell_type": "markdown",
      "source": [
        "The corresponding file was then uploaded using the upload ID received previously."
      ],
      "metadata": {
        "id": "0n2Tb8STyYlf"
      }
    },
    {
      "cell_type": "code",
      "source": [
        "image = {'img': open('default.jpg','rb')}\n",
        "\n",
        "r = requests.put('https://transkribus.eu/TrpServer/rest/uploads/1866934', files = image, params = SessionID)\n",
        "\n",
        "print(r.text)\n"
      ],
      "metadata": {
        "colab": {
          "base_uri": "https://localhost:8080/"
        },
        "id": "sN7ydecWNbkP",
        "outputId": "46444a37-3125-49ea-8296-5957759f747e"
      },
      "execution_count": null,
      "outputs": [
        {
          "output_type": "stream",
          "name": "stdout",
          "text": [
            "<?xml version=\"1.0\" encoding=\"UTF-8\" standalone=\"yes\"?><trpUpload><md><docId>-1</docId><title>default</title><author>default</author><uploadTimestamp>0</uploadTimestamp><genre>default</genre><writer>default</writer><uploaderId>0</uploaderId><nrOfPages>0</nrOfPages><collectionList/></md><pageList><pages><fileName>default.jpg</fileName><pageUploaded>true</pageUploaded><pageNr>1</pageNr></pages></pageList><uploadId>1866934</uploadId><created>2024-03-07T18:49:46.328+01:00</created><finished>2024-03-07T18:50:09.715+01:00</finished><userId>223155</userId><userName>roshawnlayne@gmail.com</userName><nrOfPagesTotal>1</nrOfPagesTotal><uploadType>JSON</uploadType><jobId>8282409</jobId><colId>284396</colId></trpUpload>\n"
          ]
        }
      ]
    },
    {
      "cell_type": "markdown",
      "source": [
        "Using the job ID received above, the status and details of the upload job can be checked."
      ],
      "metadata": {
        "id": "eukR272Wygve"
      }
    },
    {
      "cell_type": "code",
      "source": [
        "r = requests.get('https://transkribus.eu/TrpServer/rest/jobs/8282409', params = SessionID)\n",
        "\n",
        "print(r.text)"
      ],
      "metadata": {
        "colab": {
          "base_uri": "https://localhost:8080/"
        },
        "id": "gimRD71QKNXl",
        "outputId": "ea65017a-3f97-4c09-b393-87504a93aa2c"
      },
      "execution_count": null,
      "outputs": [
        {
          "output_type": "stream",
          "name": "stdout",
          "text": [
            "{\"jobId\":\"8282409\",\"docId\":1866934,\"pageNr\":-1,\"type\":\"Create Document\",\"state\":\"FINISHED\",\"success\":true,\"description\":\"Done, duration: 1s 389ms\",\"userName\":\"roshawnlayne@gmail.com\",\"userId\":223155,\"createTime\":1709833809711,\"startTime\":1709833809827,\"endTime\":1709833811216,\"jobData\":\"#Thu Mar 07 18:50:09 CET 2024\\ncolId=284396\\n\",\"resumable\":false,\"jobImpl\":\"UploadImportJob\",\"moduleUrl\":\"http://srv6155:8080/UtilityModule-trpProd-2.12.0\",\"moduleName\":\"UtilityModule\",\"moduleVersion\":\"2.12.0\",\"started\":\"2024-03-07T18:50:09.827+01:00\",\"ended\":\"2024-03-07T18:50:11.216+01:00\",\"created\":\"2024-03-07T18:50:09.711+01:00\",\"batchId\":0,\"pageid\":0,\"tsid\":0,\"parent_jobid\":0,\"parent_batchid\":0,\"colId\":284396,\"progress\":1,\"totalWork\":1,\"nrOfErrors\":0,\"docTitle\":\"default\",\"priority\":0}\n"
          ]
        }
      ]
    },
    {
      "cell_type": "markdown",
      "source": [
        "The document id can be used to view the metadata of a particular document within the collection."
      ],
      "metadata": {
        "id": "aydoJ9D1RwAB"
      }
    },
    {
      "cell_type": "code",
      "source": [
        "##Get complete document\n",
        "\n",
        "r = requests.get('https://transkribus.eu/TrpServer/rest/collections/284396/1866934/fulldoc', params = SessionID)\n",
        "\n",
        "print(r.text)\n"
      ],
      "metadata": {
        "colab": {
          "base_uri": "https://localhost:8080/"
        },
        "id": "9uDGKNvSiHsS",
        "outputId": "f88b66f0-f509-47f6-ee98-2928b3753819"
      },
      "execution_count": 3,
      "outputs": [
        {
          "output_type": "stream",
          "name": "stdout",
          "text": [
            "{\"md\":{\"nrOfRegions\":0,\"nrOfTranscribedRegions\":0,\"nrOfWordsInRegions\":0,\"nrOfLines\":0,\"nrOfTranscribedLines\":0,\"nrOfWordsInLines\":0,\"nrOfWords\":0,\"nrOfTranscribedWords\":0,\"nrOfCharsInLines\":0,\"nrOfNew\":1,\"nrOfInProgress\":0,\"nrOfDone\":0,\"nrOfFinal\":0,\"nrOfGT\":0,\"docId\":1866934,\"title\":\"default\",\"author\":\"default\",\"uploadTimestamp\":1709833809983,\"genre\":\"default\",\"writer\":\"default\",\"uploader\":\"roshawnlayne@gmail.com\",\"uploaderId\":223155,\"nrOfPages\":1,\"pageId\":66254701,\"url\":\"https://files.transkribus.eu/Get?fileType=view&id=GNRESFQFOJVLXIHMQEKLEKJK\",\"thumbUrl\":\"https://files.transkribus.eu/Get?fileType=thumb&id=GNRESFQFOJVLXIHMQEKLEKJK\",\"status\":0,\"fimgStoreColl\":\"TrpDoc_DEA_1866934\",\"origDocId\":0,\"collectionList\":{\"colList\":[{\"colId\":284396,\"colName\":\"roshawnlayne@gmail.com Collection\",\"description\":\"roshawnlayne@gmail.com\",\"crowdsourcing\":false,\"elearning\":false,\"nrOfDocuments\":0}]},\"attributes\":[],\"mainColId\":284396},\"pageList\":{\"pages\":[{\"pageId\":66254701,\"docId\":1866934,\"pageNr\":1,\"key\":\"GNRESFQFOJVLXIHMQEKLEKJK\",\"imageId\":52972831,\"url\":\"https://files.transkribus.eu/Get?id=GNRESFQFOJVLXIHMQEKLEKJK&fileType=view\",\"thumbUrl\":\"https://files.transkribus.eu/Get?id=GNRESFQFOJVLXIHMQEKLEKJK&fileType=thumb\",\"md5Sum\":\"8d537ad62be29c5965c1f72f3afa5fa0\",\"fileSize\":6618050,\"imgFileName\":\"default.jpg\",\"tsList\":{\"transcripts\":[{\"tsId\":150724209,\"parentTsId\":-1,\"key\":\"XYYNCGPPWRWTGEANBTEASPAS\",\"pageId\":66254701,\"docId\":1866934,\"pageNr\":1,\"url\":\"https://files.transkribus.eu/Get?id=XYYNCGPPWRWTGEANBTEASPAS\",\"status\":\"NEW\",\"userName\":\"roshawnlayne@gmail.com\",\"userId\":223155,\"timestamp\":1709833809983,\"md5Sum\":\"bc0893d0ad0999e3ee420582f969b031\",\"nrOfRegions\":0,\"nrOfTranscribedRegions\":0,\"nrOfWordsInRegions\":0,\"nrOfLines\":0,\"nrOfTranscribedLines\":0,\"nrOfWordsInLines\":0,\"nrOfWords\":0,\"nrOfTranscribedWords\":0,\"nrOfCharsInLines\":0,\"fileSize\":613,\"fileName\":\"default.xml\"}]},\"width\":6373,\"height\":9000,\"created\":\"2024-03-07T18:50:10.075+01:00\",\"indexed\":true,\"imageVersions\":{\"imageVersions\":[]},\"lastIndexed\":\"2024-03-07T18:50:15.589+01:00\"}]},\"collection\":{\"colId\":284396,\"colName\":\"roshawnlayne@gmail.com Collection\",\"description\":\"roshawnlayne@gmail.com\",\"created\":\"2024-03-01T16:14:55.981+01:00\",\"crowdsourcing\":false,\"elearning\":false,\"pageId\":65923155,\"url\":\"https://files.transkribus.eu/Get?fileType=view&id=DAEQZNPMDNXLWKBWOHOHPWDD\",\"thumbUrl\":\"https://files.transkribus.eu/Get?fileType=thumb&id=DAEQZNPMDNXLWKBWOHOHPWDD\",\"nrOfDocuments\":0,\"accountingStatus\":1},\"edDeclList\":[]}\n"
          ]
        }
      ]
    },
    {
      "cell_type": "markdown",
      "source": [
        "### Kick off a transcription job(through web interface)\n",
        "To begin a transcription job, select the document in the collection and select the \"Recognize\" button.\n",
        "\n",
        "![Text Recognition Button](assets/RoshawnL_03.png)\n",
        "\n",
        "The user will be taken to a page with a list of models which detail the language and name of each model. On the right, the details of the model including the languages, training set size, % CER (Accuracy), centuries and what the model was trained on can be seen. The \"Show Details\" popout provides a description and a graph of the training and validation CER.\n",
        "\n",
        "![Models List](assets/RoshawnL_04.png)\n",
        "\n",
        "![Show Details](assets/RoshawnL_05.png)\n",
        "\n",
        "Click the \"Start Recognition\" button towards the top to begin the job. To see the progress of the job, select Jobs on the home screen and select \"Open Full Jobs Table >\". This shows details for any job and the status of the current job among other details.\n",
        "\n",
        "![Job Details](assets/RoshawnL_06.png)\n"
      ],
      "metadata": {
        "id": "P3ovRAPRZmh-"
      }
    },
    {
      "cell_type": "markdown",
      "source": [
        "The job ID for the transcribed file was taken from the website. Alternatively, the job IDs can be retrieved using the following:"
      ],
      "metadata": {
        "id": "-9YgXJqs0aqA"
      }
    },
    {
      "cell_type": "code",
      "source": [
        "##Get job list\n",
        "\n",
        "r = requests.get('https://transkribus.eu/TrpServer/rest/jobs/list', params = SessionID)\n",
        "\n",
        "print(r.text)\n"
      ],
      "metadata": {
        "colab": {
          "base_uri": "https://localhost:8080/"
        },
        "id": "9tpWK2OY0ljC",
        "outputId": "d80b105c-af40-4161-a148-25b94800ebfa"
      },
      "execution_count": 4,
      "outputs": [
        {
          "output_type": "stream",
          "name": "stdout",
          "text": [
            "[{\"jobId\":\"8370415\",\"docId\":1866934,\"pageNr\":-1,\"pages\":\"1\",\"type\":\"PyLaia Decoding\",\"state\":\"FINISHED\",\"success\":true,\"description\":\"Done, duration: 41s 468ms\",\"userName\":\"roshawnlayne@gmail.com\",\"userId\":223155,\"createTime\":1710434032018,\"startTime\":1710434038493,\"endTime\":1710434079961,\"jobData\":\"#Thu Mar 14 16:33:58 UTC 2024\\ndoNotDeleteWorkDir=false\\nwriteKwsIndex=false\\ndoLinePolygonSimplification=true\\nkeepOriginalLinePolygons=false\\nmodelId=53042\\nwriteLineConfScore=false\\nwriteWordConfScores=false\\nb2pBackend=Legacy\\nuserRoles=User\\nclearLines=false\\nisNextGen=false\\nuserEmail=roshawnlayne@gmail.com\\nGPU_DEVICE=0\\ndoWordSeg=true\\nworkDir=/tmp/HTR/PyLaia/trpProd/Decode/pylaiaDecode_8370415\\nbatchSize=10\\nuseExistingLinePolygons=false\\nnBest=1\\n\",\"resumable\":false,\"jobImpl\":\"PyLaiaDecodingJob\",\"moduleUrl\":\"http://srv6107:8080/PyLaiaModule-trpProd-2.12.1\",\"moduleName\":\"PyLaiaModule\",\"moduleVersion\":\"2.12.1\",\"started\":\"2024-03-14T16:33:58.493+01:00\",\"ended\":\"2024-03-14T16:34:39.961+01:00\",\"created\":\"2024-03-14T17:33:52.018+01:00\",\"pid\":\"1276062\",\"batchId\":0,\"pageid\":0,\"tsid\":0,\"parent_jobid\":0,\"parent_batchid\":0,\"colId\":284396,\"progress\":1,\"totalWork\":1,\"nrOfErrors\":0,\"modelId\":53042,\"nrOfElements\":1177,\"docTitle\":\"default\",\"priority\":0,\"creditsFreeOfCharge\":true},{\"jobId\":\"8282409\",\"docId\":1866934,\"pageNr\":-1,\"type\":\"Create Document\",\"state\":\"FINISHED\",\"success\":true,\"description\":\"Done, duration: 1s 389ms\",\"userName\":\"roshawnlayne@gmail.com\",\"userId\":223155,\"createTime\":1709833809711,\"startTime\":1709833809827,\"endTime\":1709833811216,\"jobData\":\"#Thu Mar 07 18:50:09 CET 2024\\ncolId=284396\\n\",\"resumable\":false,\"jobImpl\":\"UploadImportJob\",\"moduleUrl\":\"http://srv6155:8080/UtilityModule-trpProd-2.12.0\",\"moduleName\":\"UtilityModule\",\"moduleVersion\":\"2.12.0\",\"started\":\"2024-03-07T18:50:09.827+01:00\",\"ended\":\"2024-03-07T18:50:11.216+01:00\",\"created\":\"2024-03-07T18:50:09.711+01:00\",\"batchId\":0,\"pageid\":0,\"tsid\":0,\"parent_jobid\":0,\"parent_batchid\":0,\"colId\":284396,\"progress\":1,\"totalWork\":1,\"nrOfErrors\":0,\"docTitle\":\"default\",\"priority\":0},{\"jobId\":\"8279959\",\"docId\":1866471,\"pageNr\":-1,\"type\":\"Create Document\",\"state\":\"FINISHED\",\"success\":true,\"description\":\"Done, duration: 2s 134ms\",\"userName\":\"roshawnlayne@gmail.com\",\"userId\":223155,\"createTime\":1709822211203,\"startTime\":1709822211375,\"endTime\":1709822213509,\"jobData\":\"#Thu Mar 07 15:36:51 CET 2024\\ncolId=284396\\n\",\"resumable\":false,\"jobImpl\":\"UploadImportJob\",\"moduleUrl\":\"http://srv6155:8080/UtilityModule-trpProd-2.12.0\",\"moduleName\":\"UtilityModule\",\"moduleVersion\":\"2.12.0\",\"started\":\"2024-03-07T15:36:51.375+01:00\",\"ended\":\"2024-03-07T15:36:53.509+01:00\",\"created\":\"2024-03-07T15:36:51.203+01:00\",\"batchId\":0,\"pageid\":0,\"tsid\":0,\"parent_jobid\":0,\"parent_batchid\":0,\"colId\":284396,\"progress\":1,\"totalWork\":1,\"nrOfErrors\":0,\"docTitle\":\"Deleted Document\",\"priority\":0},{\"jobId\":\"8279929\",\"docId\":1866465,\"pageNr\":-1,\"type\":\"Create Document\",\"state\":\"FINISHED\",\"success\":true,\"description\":\"Done, duration: 4s 700ms\",\"userName\":\"roshawnlayne@gmail.com\",\"userId\":223155,\"createTime\":1709822041518,\"startTime\":1709822041767,\"endTime\":1709822046467,\"jobData\":\"#Thu Mar 07 15:34:01 CET 2024\\ncolId=284396\\n\",\"resumable\":false,\"jobImpl\":\"UploadImportJob\",\"moduleUrl\":\"http://srv6155:8080/UtilityModule-trpProd-2.12.0\",\"moduleName\":\"UtilityModule\",\"moduleVersion\":\"2.12.0\",\"started\":\"2024-03-07T15:34:01.767+01:00\",\"ended\":\"2024-03-07T15:34:06.467+01:00\",\"created\":\"2024-03-07T15:34:01.518+01:00\",\"batchId\":0,\"pageid\":0,\"tsid\":0,\"parent_jobid\":0,\"parent_batchid\":0,\"colId\":284396,\"progress\":1,\"totalWork\":1,\"nrOfErrors\":0,\"docTitle\":\"Deleted Document\",\"priority\":0},{\"jobId\":\"8279915\",\"docId\":1866463,\"pageNr\":-1,\"type\":\"Create Document\",\"state\":\"FINISHED\",\"success\":true,\"description\":\"Done, duration: 7s 752ms\",\"userName\":\"roshawnlayne@gmail.com\",\"userId\":223155,\"createTime\":1709821915489,\"startTime\":1709821915581,\"endTime\":1709821923333,\"jobData\":\"#Thu Mar 07 15:31:55 CET 2024\\ncolId=284396\\n\",\"resumable\":false,\"jobImpl\":\"UploadImportJob\",\"moduleUrl\":\"http://dea-bl12:8080/UtilityModule-trpProd-2.12.0\",\"moduleName\":\"UtilityModule\",\"moduleVersion\":\"2.12.0\",\"started\":\"2024-03-07T15:31:55.581+01:00\",\"ended\":\"2024-03-07T15:32:03.333+01:00\",\"created\":\"2024-03-07T15:31:55.489+01:00\",\"batchId\":0,\"pageid\":0,\"tsid\":0,\"parent_jobid\":0,\"parent_batchid\":0,\"colId\":284396,\"progress\":1,\"totalWork\":1,\"nrOfErrors\":0,\"docTitle\":\"Deleted Document\",\"priority\":0},{\"jobId\":\"8279899\",\"docId\":1866459,\"pageNr\":-1,\"type\":\"Create Document\",\"state\":\"FINISHED\",\"success\":true,\"description\":\"Done, duration: 4s 939ms\",\"userName\":\"roshawnlayne@gmail.com\",\"userId\":223155,\"createTime\":1709821819397,\"startTime\":1709821819788,\"endTime\":1709821824727,\"jobData\":\"#Thu Mar 07 15:30:19 CET 2024\\ncolId=284396\\n\",\"resumable\":false,\"jobImpl\":\"UploadImportJob\",\"moduleUrl\":\"http://dea-bl12:8080/UtilityModule-trpProd-2.12.0\",\"moduleName\":\"UtilityModule\",\"moduleVersion\":\"2.12.0\",\"started\":\"2024-03-07T15:30:19.788+01:00\",\"ended\":\"2024-03-07T15:30:24.727+01:00\",\"created\":\"2024-03-07T15:30:19.397+01:00\",\"batchId\":0,\"pageid\":0,\"tsid\":0,\"parent_jobid\":0,\"parent_batchid\":0,\"colId\":284396,\"progress\":1,\"totalWork\":1,\"nrOfErrors\":0,\"docTitle\":\"Deleted Document\",\"priority\":0},{\"jobId\":\"8279242\",\"docId\":1866307,\"pageNr\":-1,\"type\":\"Create Document\",\"state\":\"FINISHED\",\"success\":true,\"description\":\"Done, duration: 3s 439ms\",\"userName\":\"roshawnlayne@gmail.com\",\"userId\":223155,\"createTime\":1709819002664,\"startTime\":1709819003099,\"endTime\":1709819006538,\"jobData\":\"#Thu Mar 07 14:43:23 CET 2024\\ncolId=284396\\n\",\"resumable\":false,\"jobImpl\":\"UploadImportJob\",\"moduleUrl\":\"http://srv6155:8080/UtilityModule-trpProd-2.12.0\",\"moduleName\":\"UtilityModule\",\"moduleVersion\":\"2.12.0\",\"started\":\"2024-03-07T14:43:23.099+01:00\",\"ended\":\"2024-03-07T14:43:26.538+01:00\",\"created\":\"2024-03-07T14:43:22.664+01:00\",\"batchId\":0,\"pageid\":0,\"tsid\":0,\"parent_jobid\":0,\"parent_batchid\":0,\"colId\":284396,\"progress\":1,\"totalWork\":1,\"nrOfErrors\":0,\"docTitle\":\"Deleted Document\",\"priority\":0},{\"jobId\":\"8223205\",\"docId\":1858541,\"pageNr\":-1,\"pages\":\"1\",\"type\":\"Export Document\",\"state\":\"FINISHED\",\"success\":true,\"description\":\"Done, duration: 10s 732ms\",\"userName\":\"roshawnlayne@gmail.com\",\"userId\":223155,\"createTime\":1709507577261,\"startTime\":1709507579090,\"endTime\":1709507589822,\"jobData\":\"#Mon Mar 04 00:13:05 CET 2024\\nteiPars={\\\"regionZones\\\"\\\\:false,\\\"lineZones\\\"\\\\:false,\\\"wordZones\\\"\\\\:false,\\\"boundingBoxCoords\\\"\\\\:false,\\\"linebreakType\\\"\\\\:\\\"\\\",\\\"lineBreakAtBeginningOfLine\\\"\\\\:true,\\\"pbImageNameAsXmlId\\\"\\\\:false,\\\"lineXmlIds\\\"\\\\:false,\\\"exportPredefinedTagsAndAttsInTei\\\"\\\\:false,\\\"useXslTransformation\\\"\\\\:false,\\\"useBoundingRects\\\"\\\\:false,\\\"useRsTags\\\"\\\\:false,\\\"tokenizeWhitespace\\\"\\\\:false,\\\"combineContinuedTags\\\"\\\\:false,\\\"useAbElements\\\"\\\\:false,\\\"useWordCoordinates\\\"\\\\:false,\\\"withoutTextline\\\"\\\\:false}\\ncommonPars={\\\"doExportDocMetadata\\\"\\\\:true,\\\"doWriteMets\\\"\\\\:true,\\\"doWriteImages\\\"\\\\:true,\\\"doExportPageXml\\\"\\\\:false,\\\"doExportAltoXml\\\"\\\\:false,\\\"doExportSingleTxtFiles\\\"\\\\:true,\\\"doWritePdf\\\"\\\\:true,\\\"doWriteTei\\\"\\\\:false,\\\"doWriteDocx\\\"\\\\:false,\\\"doWriteOneTxt\\\"\\\\:false,\\\"doSplitTxt\\\"\\\\:false,\\\"doWriteTagsXlsx\\\"\\\\:false,\\\"doWriteTagsIob\\\"\\\\:false,\\\"doWriteTablesXlsx\\\"\\\\:false,\\\"doWriteTableSingleColumn\\\"\\\\:false,\\\"doIncludeImagesInXlsx\\\"\\\\:false,\\\"doWriteOneTableForDoc\\\"\\\\:false,\\\"doWriteStructuresInXlsx\\\"\\\\:false,\\\"doWriteWordsIntoTable\\\"\\\\:false,\\\"doWritePageMdXlsx\\\"\\\\:false,\\\"doWriteStructureInMets\\\"\\\\:false,\\\"tableColumn\\\"\\\\:-1,\\\"doCreateTitle\\\"\\\\:false,\\\"useVersionStatus\\\"\\\\:\\\"Latest\\\",\\\"writeTextOnWordLevel\\\"\\\\:true,\\\"doBlackening\\\"\\\\:false,\\\"selectedTags\\\"\\\\:[],\\\"structureTagNames\\\"\\\\:[],\\\"font\\\"\\\\:\\\"FreeSerif\\\",\\\"splitIntoWordsInAltoXml\\\"\\\\:false,\\\"pageDirName\\\"\\\\:\\\"page\\\",\\\"fileNamePattern\\\"\\\\:\\\"${pageNr}_${filename}\\\",\\\"useHttps\\\"\\\\:true,\\\"remoteImgQuality\\\"\\\\:\\\"orig\\\",\\\"doOverwrite\\\"\\\\:true,\\\"useOcrMasterDir\\\"\\\\:true,\\\"exportTranscriptMetadata\\\"\\\\:true,\\\"updatePageXmlImageDimensions\\\"\\\\:true,\\\"doResume\\\"\\\\:false}\\npdfPars={\\\"doPdfImagesOnly\\\"\\\\:false,\\\"doPdfImagesPlusText\\\"\\\\:false,\\\"doPdfWithTextPages\\\"\\\\:false,\\\"doPdfWithTags\\\"\\\\:false,\\\"doPdfWithArticles\\\"\\\\:false,\\\"doPdfA\\\"\\\\:false,\\\"doSinglePagePdfs\\\"\\\\:false,\\\"doUseLinePolygons\\\"\\\\:false,\\\"defaultLineHeight\\\"\\\\:20,\\\"pdfImgQuality\\\"\\\\:\\\"view\\\"}\\ndocxPars={\\\"doDocxWithTags\\\"\\\\:false,\\\"doDocxPreserveLineBreaks\\\"\\\\:false,\\\"doDocxForcePageBreaks\\\"\\\\:false,\\\"doDocxMarkUnclear\\\"\\\\:false,\\\"doDocxKeepAbbrevs\\\"\\\\:false,\\\"doDocxExpandAbbrevs\\\"\\\\:false,\\\"doDocxSubstituteAbbrevs\\\"\\\\:false,\\\"doDocxWriteFilenames\\\"\\\\:false,\\\"doDocxIgnoreSuppliedTag\\\"\\\\:false,\\\"doDocxShowSuppliedTagWithBrackets\\\"\\\\:false}\\nworkDir=/mnt/transkribus/export/TRP_EXPORT_4729048616948963751\\nzipFilePath=/mnt/transkribus/export/TRP_EXPORT_6934808294413133337/export_job_8223205.zip\\naltoPars={\\\"splitIntoWordsInAltoXml\\\"\\\\:false,\\\"createAltov2\\\"\\\\:false}\\n\",\"resumable\":false,\"result\":\"https://transkribus.eu/export/7916928723672534385/export_job_8223205.zip\",\"jobImpl\":\"DocExportJob\",\"moduleUrl\":\"http://dea-bl12:8080/UtilityModule-trpProd-2.10.0\",\"moduleName\":\"UtilityModule\",\"moduleVersion\":\"2.10.0\",\"started\":\"2024-03-04T00:12:59.09+01:00\",\"ended\":\"2024-03-04T00:13:09.822+01:00\",\"created\":\"2024-03-04T00:12:57.261+01:00\",\"pid\":\"1442\",\"batchId\":0,\"pageid\":0,\"tsid\":0,\"parent_jobid\":0,\"parent_batchid\":0,\"colId\":284396,\"progress\":3,\"totalWork\":3,\"nrOfErrors\":0,\"docTitle\":\"default\",\"priority\":0},{\"jobId\":\"8220123\",\"docId\":1858541,\"pageNr\":-1,\"pages\":\"1\",\"type\":\"PyLaia Decoding\",\"state\":\"FINISHED\",\"success\":true,\"description\":\"Done, duration: 57s 672ms\",\"userName\":\"roshawnlayne@gmail.com\",\"userId\":223155,\"createTime\":1709485722746,\"startTime\":1709485724476,\"endTime\":1709485782148,\"jobData\":\"#Sun Mar 03 17:08:44 UTC 2024\\ndoNotDeleteWorkDir=false\\nwriteKwsIndex=false\\ndoLinePolygonSimplification=true\\nkeepOriginalLinePolygons=false\\nmodelId=53042\\nwriteLineConfScore=false\\nwriteWordConfScores=false\\nb2pBackend=Legacy\\nuserRoles=User\\nclearLines=false\\nisNextGen=false\\nuserEmail=roshawnlayne@gmail.com\\ndoWordSeg=true\\nworkDir=/tmp/HTR/PyLaia/trpProd/Decode/pylaiaDecode_8220123\\nbatchSize=10\\nuseExistingLinePolygons=false\\nnBest=1\\n\",\"resumable\":false,\"jobImpl\":\"PyLaiaDecodingJob\",\"moduleUrl\":\"http://srv6105:8080/PyLaiaModule-trpProd-2.9.1\",\"moduleName\":\"PyLaiaModule\",\"moduleVersion\":\"2.9.1\",\"started\":\"2024-03-03T17:08:44.476+01:00\",\"ended\":\"2024-03-03T17:09:42.148+01:00\",\"created\":\"2024-03-03T18:08:42.746+01:00\",\"pid\":\"2635735\",\"batchId\":0,\"pageid\":0,\"tsid\":0,\"parent_jobid\":0,\"parent_batchid\":0,\"colId\":284396,\"progress\":1,\"totalWork\":1,\"nrOfErrors\":0,\"modelId\":53042,\"nrOfElements\":1177,\"docTitle\":\"default\",\"priority\":0,\"creditsFreeOfCharge\":true},{\"jobId\":\"8220101\",\"docId\":1858420,\"pageNr\":-1,\"type\":\"Undo job\",\"state\":\"FINISHED\",\"success\":true,\"description\":\"Done, duration: 353ms\",\"userName\":\"roshawnlayne@gmail.com\",\"userId\":223155,\"createTime\":1709485589953,\"startTime\":1709485590404,\"endTime\":1709485590757,\"jobData\":\"#Sun Mar 03 18:06:30 CET 2024\\njobId=8220053\\nfilelist=[{\\\"tsId\\\"\\\\:150235383,\\\"parentTsId\\\"\\\\:150235289,\\\"key\\\"\\\\:\\\"HFJMTGQTDDEIPAROQZGKVIZJ\\\",\\\"pageId\\\"\\\\:65986672,\\\"docId\\\"\\\\:1858420,\\\"pageNr\\\"\\\\:1,\\\"url\\\"\\\\:\\\"https\\\\://files.transkribus.eu/Get?id\\\\\\\\u003dHFJMTGQTDDEIPAROQZGKVIZJ\\\",\\\"status\\\"\\\\:\\\"IN_PROGRESS\\\",\\\"userName\\\"\\\\:\\\"roshawnlayne@gmail.com\\\",\\\"userId\\\"\\\\:223155,\\\"timestamp\\\"\\\\:1709485265920,\\\"toolName\\\"\\\\:\\\"PyLaia decoding 2.9.1 - Model\\\\: 53042, The English Eagle, LM\\\\: none\\\",\\\"jobId\\\"\\\\:8220053,\\\"note\\\"\\\\:\\\"Model\\\\: 53042, The English Eagle, LM\\\\: none\\\",\\\"md5Sum\\\"\\\\:\\\"331b11ac4c3b002ff2e791b5e4a8d058\\\",\\\"nrOfRegions\\\"\\\\:3,\\\"nrOfTranscribedRegions\\\"\\\\:0,\\\"nrOfWordsInRegions\\\"\\\\:0,\\\"nrOfLines\\\"\\\\:38,\\\"nrOfTranscribedLines\\\"\\\\:37,\\\"nrOfWordsInLines\\\"\\\\:297,\\\"nrOfWords\\\"\\\\:296,\\\"nrOfTranscribedWords\\\"\\\\:296,\\\"nrOfCharsInLines\\\"\\\\:1177,\\\"fileSize\\\"\\\\:122144,\\\"fileName\\\"\\\\:\\\"default.xml\\\"}]\\ntype=PyLaiaDecodingJob\\n\",\"resumable\":false,\"jobImpl\":\"UndoJob\",\"moduleUrl\":\"http://srv6155:8080/UtilityModule-trpProd-2.10.0\",\"moduleName\":\"UtilityModule\",\"moduleVersion\":\"2.10.0\",\"started\":\"2024-03-03T18:06:30.404+01:00\",\"ended\":\"2024-03-03T18:06:30.757+01:00\",\"created\":\"2024-03-03T18:06:29.953+01:00\",\"batchId\":0,\"pageid\":0,\"tsid\":0,\"parent_jobid\":0,\"parent_batchid\":0,\"colId\":284396,\"progress\":0,\"totalWork\":0,\"nrOfErrors\":0,\"docTitle\":\"Deleted Document\",\"priority\":0},{\"jobId\":\"8220053\",\"docId\":1858420,\"pageNr\":-1,\"pages\":\"1\",\"type\":\"PyLaia Decoding\",\"state\":\"FINISHED\",\"success\":true,\"description\":\"Done, duration: 34s 148ms\",\"userName\":\"roshawnlayne@gmail.com\",\"userId\":223155,\"createTime\":1709485230554,\"startTime\":1709485232253,\"endTime\":1709485266401,\"jobData\":\"#Sun Mar 03 17:00:32 UTC 2024\\ndoNotDeleteWorkDir=false\\nwriteKwsIndex=false\\ndoLinePolygonSimplification=true\\nkeepOriginalLinePolygons=false\\nmodelId=53042\\nwriteLineConfScore=false\\nwriteWordConfScores=false\\nb2pBackend=Legacy\\nuserRoles=User\\nclearLines=false\\nisNextGen=false\\nuserEmail=roshawnlayne@gmail.com\\nGPU_DEVICE=0\\ndoWordSeg=true\\nworkDir=/tmp/HTR/PyLaia/trpProd/Decode/pylaiaDecode_8220053\\nbatchSize=10\\nuseExistingLinePolygons=false\\nnBest=1\\n\",\"resumable\":false,\"jobImpl\":\"PyLaiaDecodingJob\",\"moduleUrl\":\"http://srv6107:8080/PyLaiaModule-trpProd-2.9.1\",\"moduleName\":\"PyLaiaModule\",\"moduleVersion\":\"2.9.1\",\"started\":\"2024-03-03T17:00:32.253+01:00\",\"ended\":\"2024-03-03T17:01:06.401+01:00\",\"created\":\"2024-03-03T18:00:30.554+01:00\",\"pid\":\"1924945\",\"batchId\":0,\"pageid\":0,\"tsid\":0,\"parent_jobid\":0,\"parent_batchid\":0,\"colId\":284396,\"progress\":1,\"totalWork\":1,\"nrOfErrors\":0,\"modelId\":53042,\"nrOfElements\":1177,\"docTitle\":\"Deleted Document\",\"priority\":0,\"creditsFreeOfCharge\":true},{\"jobId\":\"8220029\",\"docId\":1858420,\"pageNr\":-1,\"pages\":\"1\",\"type\":\"PyLaia Decoding\",\"state\":\"FINISHED\",\"success\":true,\"description\":\"Done, duration: 42s 344ms\",\"userName\":\"roshawnlayne@gmail.com\",\"userId\":223155,\"createTime\":1709485121111,\"startTime\":1709485122663,\"endTime\":1709485165007,\"jobData\":\"#Sun Mar 03 16:58:42 UTC 2024\\ndoNotDeleteWorkDir=false\\nwriteKwsIndex=false\\ndoLinePolygonSimplification=true\\nkeepOriginalLinePolygons=false\\nmodelId=50870\\nwriteLineConfScore=false\\nwriteWordConfScores=false\\nb2pBackend=Legacy\\nuserRoles=User\\nclearLines=false\\nisNextGen=false\\nuserEmail=roshawnlayne@gmail.com\\nGPU_DEVICE=0\\ndoWordSeg=true\\nworkDir=/tmp/HTR/PyLaia/trpProd/Decode/pylaiaDecode_8220029\\nbatchSize=10\\nuseExistingLinePolygons=false\\nnBest=1\\n\",\"resumable\":false,\"jobImpl\":\"PyLaiaDecodingJob\",\"moduleUrl\":\"http://srv6108:8080/PyLaiaModule-trpProd-2.9.1\",\"moduleName\":\"PyLaiaModule\",\"moduleVersion\":\"2.9.1\",\"started\":\"2024-03-03T16:58:42.663+01:00\",\"ended\":\"2024-03-03T16:59:25.007+01:00\",\"created\":\"2024-03-03T17:58:41.111+01:00\",\"pid\":\"1358404\",\"batchId\":0,\"pageid\":0,\"tsid\":0,\"parent_jobid\":0,\"parent_batchid\":0,\"colId\":284396,\"progress\":1,\"totalWork\":1,\"nrOfErrors\":0,\"modelId\":50870,\"nrOfElements\":1183,\"docTitle\":\"Deleted Document\",\"priority\":0,\"creditsFreeOfCharge\":true},{\"jobId\":\"8219997\",\"docId\":1858541,\"pageNr\":-1,\"type\":\"Create Document\",\"state\":\"FINISHED\",\"success\":true,\"description\":\"Done, duration: 1s 632ms\",\"userName\":\"roshawnlayne@gmail.com\",\"userId\":223155,\"createTime\":1709484858132,\"startTime\":1709484858322,\"endTime\":1709484859954,\"jobData\":\"#Sun Mar 03 17:54:18 CET 2024\\ncolId=284396\\n\",\"resumable\":false,\"jobImpl\":\"UploadImportJob\",\"moduleUrl\":\"http://srv6155:8080/UtilityModule-trpProd-2.10.0\",\"moduleName\":\"UtilityModule\",\"moduleVersion\":\"2.10.0\",\"started\":\"2024-03-03T17:54:18.322+01:00\",\"ended\":\"2024-03-03T17:54:19.954+01:00\",\"created\":\"2024-03-03T17:54:18.132+01:00\",\"batchId\":0,\"pageid\":0,\"tsid\":0,\"parent_jobid\":0,\"parent_batchid\":0,\"colId\":284396,\"progress\":1,\"totalWork\":1,\"nrOfErrors\":0,\"docTitle\":\"default\",\"priority\":0},{\"jobId\":\"8218465\",\"docId\":1858420,\"pageNr\":-1,\"type\":\"Create Document\",\"state\":\"FINISHED\",\"success\":true,\"description\":\"Done, duration: 2s 315ms\",\"userName\":\"roshawnlayne@gmail.com\",\"userId\":223155,\"createTime\":1709479496065,\"startTime\":1709479496952,\"endTime\":1709479499267,\"jobData\":\"#Sun Mar 03 16:24:56 CET 2024\\ncolId=284396\\n\",\"resumable\":false,\"jobImpl\":\"UploadImportJob\",\"moduleUrl\":\"http://srv6155:8080/UtilityModule-trpProd-2.10.0\",\"moduleName\":\"UtilityModule\",\"moduleVersion\":\"2.10.0\",\"started\":\"2024-03-03T16:24:56.952+01:00\",\"ended\":\"2024-03-03T16:24:59.267+01:00\",\"created\":\"2024-03-03T16:24:56.065+01:00\",\"batchId\":0,\"pageid\":0,\"tsid\":0,\"parent_jobid\":0,\"parent_batchid\":0,\"colId\":284396,\"progress\":1,\"totalWork\":1,\"nrOfErrors\":0,\"docTitle\":\"Deleted Document\",\"priority\":0}]\n"
          ]
        }
      ]
    },
    {
      "cell_type": "code",
      "source": [
        "##Get specific job\n",
        "\n",
        "r = requests.get('https://transkribus.eu/TrpServer/rest/jobs/8370415', params = SessionID)\n",
        "\n",
        "print(r.text)\n"
      ],
      "metadata": {
        "colab": {
          "base_uri": "https://localhost:8080/"
        },
        "id": "2YJ5ybjHjPlw",
        "outputId": "199e5278-9ba1-47a4-afa3-53590419458a"
      },
      "execution_count": 43,
      "outputs": [
        {
          "output_type": "stream",
          "name": "stdout",
          "text": [
            "{\"jobId\":\"8370415\",\"docId\":1866934,\"pageNr\":-1,\"pages\":\"1\",\"type\":\"PyLaia Decoding\",\"state\":\"FINISHED\",\"success\":true,\"description\":\"Done, duration: 41s 468ms\",\"userName\":\"roshawnlayne@gmail.com\",\"userId\":223155,\"createTime\":1710434032018,\"startTime\":1710434038493,\"endTime\":1710434079961,\"jobData\":\"#Thu Mar 14 16:33:58 UTC 2024\\ndoNotDeleteWorkDir=false\\nwriteKwsIndex=false\\ndoLinePolygonSimplification=true\\nkeepOriginalLinePolygons=false\\nmodelId=53042\\nwriteLineConfScore=false\\nwriteWordConfScores=false\\nb2pBackend=Legacy\\nuserRoles=User\\nclearLines=false\\nisNextGen=false\\nuserEmail=roshawnlayne@gmail.com\\nGPU_DEVICE=0\\ndoWordSeg=true\\nworkDir=/tmp/HTR/PyLaia/trpProd/Decode/pylaiaDecode_8370415\\nbatchSize=10\\nuseExistingLinePolygons=false\\nnBest=1\\n\",\"resumable\":false,\"jobImpl\":\"PyLaiaDecodingJob\",\"moduleUrl\":\"http://srv6107:8080/PyLaiaModule-trpProd-2.12.1\",\"moduleName\":\"PyLaiaModule\",\"moduleVersion\":\"2.12.1\",\"started\":\"2024-03-14T16:33:58.493+01:00\",\"ended\":\"2024-03-14T16:34:39.961+01:00\",\"created\":\"2024-03-14T17:33:52.018+01:00\",\"pid\":\"1276062\",\"batchId\":0,\"pageid\":0,\"tsid\":0,\"parent_jobid\":0,\"parent_batchid\":0,\"colId\":284396,\"progress\":1,\"totalWork\":1,\"nrOfErrors\":0,\"modelId\":53042,\"nrOfElements\":1177,\"docTitle\":\"default\",\"priority\":0,\"creditsFreeOfCharge\":true}\n"
          ]
        }
      ]
    },
    {
      "cell_type": "markdown",
      "source": [
        "###Download the completed text transcription of the image\n",
        "The transcription was retrieved using the lxml library."
      ],
      "metadata": {
        "id": "6JqGbZ4a1DuI"
      }
    },
    {
      "cell_type": "code",
      "source": [
        "from xml.etree import ElementTree\n",
        "\n",
        "r = requests.get('https://transkribus.eu/TrpServer/rest/collections/284396/1866934/1/text', params = SessionID)\n",
        "tree = ElementTree.fromstring(r.content)\n",
        "\n",
        "transcript = ''\n",
        "for i in tree[1].itertext():\n",
        "    if (i.isspace() == False):\n",
        "        if i.find(' ') == -1:\n",
        "            transcript = transcript + ' ' + i\n",
        "        elif i.find(' ') >= 0:\n",
        "            transcript = transcript + '\\n'\n",
        "\n",
        "\n",
        "print(transcript)\n"
      ],
      "metadata": {
        "colab": {
          "base_uri": "https://localhost:8080/"
        },
        "id": "CLSqbA_I4vwy",
        "outputId": "bc1ad97c-cf7f-41d7-e62e-7d72c28d09c1"
      },
      "execution_count": 45,
      "outputs": [
        {
          "output_type": "stream",
          "name": "stdout",
          "text": [
            " well defered so publick a Mark of their Gratitude,\n",
            " the inferiour far to the Obligations they are under\n",
            " to youg, to the amazing Effects of whop Capacely\n",
            " & ermness it is they owe their presant Happynep,\n",
            " & the proffect they have of future greatret\n",
            " with you a long Continuance of this propperity\n",
            " & ye it may be attended w all other Felicity &\n",
            " I am wth the greatef Reffect & Leal &\n",
            " 19 tohy 86\n",
            " M Woodhouss\n",
            " think Eyfham hath usd Me so very ill about ye\n",
            " Affair of the fale of his Estate near Wyebridges, that\n",
            " I am determind to bear wth his continuing in Arrear\n",
            " no longer, & therefore defire you to make an immediate\n",
            " Seizure of what ie kath, & not let hem go free till he\n",
            " hath pd every penny of what he ower: pray let Me\n",
            " know too how many years, if any, He hath in his\n",
            " leased, for pinteled to turne hem out of the Parmfortt.\n",
            " fw have the Fifhery kept still in o Rental\n",
            " but discharged under the head of Paymt & if Po\n",
            " I hope ye whole itefairs\n",
            " much p. .H.H.\n",
            " Ocnbury will be all finiht 7 year. I prefurme\n",
            " You take particular Care to see that the Reft of the\n",
            " Tenants, who are to fland to repair themploy, do\n",
            " accordingly repair their tarig, as oft & whenever\n",
            " there is Occasion for it, wch cannot be done is out\n",
            " 44 44 visiting now & then their Farm Houses opseing i\n",
            " your own Eyc in wt Condition they are it I s. nothing\n",
            " in my Caft of the doof caft of Dewfall it was anl\n",
            " Omission, my Jntention fecing to have this done hlewip\n",
            " thi year, & I defire I may have an Alfloar.\n",
            " o o dexpess dexpess to lak\n",
            " Ant of\n",
            "\n"
          ]
        }
      ]
    },
    {
      "cell_type": "markdown",
      "source": [
        "####The following urls were helpful for dealing with the API:\n",
        "\n",
        "[Requests](https://requests.readthedocs.io/en/latest/user/quickstart/#response-content)\n",
        "\n",
        "[Login, View Collections, Documents and Jobs(Rest API)](https://readcoop.eu/transkribus/docu/rest-api/)\n",
        "\n",
        "[Other REST API Operations](https://transkribus.eu/TrpServer/Swadl/wadl.html)\n",
        "\n",
        "[Download Transcription Through Site](https://help.transkribus.org/downloading)\n",
        "\n",
        "[LXML](https://lxml.de/)"
      ],
      "metadata": {
        "id": "xDag7HStG-MD"
      }
    }
  ]
}