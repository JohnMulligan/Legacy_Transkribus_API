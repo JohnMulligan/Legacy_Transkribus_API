{
 "cells": [
  {
   "cell_type": "markdown",
   "id": "c0ec4a16-ccc6-4801-884a-1978719170d0",
   "metadata": {
    "editable": true,
    "slideshow": {
     "slide_type": ""
    },
    "tags": []
   },
   "source": [
    "## Load Packages\n",
    "\n",
    "We first load the required packages/modules for this simple exploration of the API.\n",
    "You can find documentation about how importing works at [this link](https://docs.python.org/3/tutorial/modules.html).\n",
    "\n",
    "See below to the documentation for the following packages/modules:\n",
    "\n",
    "**I. Data Processing**\n",
    "- [Requests](https://docs.python-requests.org/en/latest/index.html): This module helps you make HTTP requests to interact with web APIs or servers.\n",
    "- [json](https://docs.python.org/3/library/json.html): This is a built-in Python module for working with JSON data.\n",
    "- [xml.etree.ElementTree](https://docs.python.org/3/library/xml.etree.elementtree.html): This sub-module provides tools for parsing and working with XML data.\n",
    "\n",
    "**II. Other Utilities**\n",
    "\n",
    "- [getpass](https://docs.python.org/3/library/getpass.html): This module retrieves a password from the user without echoing it to the console. This is useful for security purposes when prompting users for passwords in your script.\n",
    "- [urllib.parse](https://docs.python.org/3/library/urllib.parse.html#module-urllib.parse): This module provides functions for parsing URLs and manipulating URL components.\n",
    "    - We will only use one function from this sub-module, `urlparse`.\n",
    "- [re](https://docs.python.org/3/library/re.html): This module provides regular expression functionalities for searching and manipulating text data."
   ]
  },
  {
   "cell_type": "code",
   "execution_count": 1,
   "id": "4249c4de-a7e2-4de2-91fc-b4622521fbd8",
   "metadata": {},
   "outputs": [],
   "source": [
    "import requests\n",
    "import json\n",
    "import xml.etree.ElementTree as ET\n",
    "\n",
    "import getpass\n",
    "\n",
    "from urllib.parse import urlparse\n",
    "import re"
   ]
  },
  {
   "cell_type": "markdown",
   "id": "f350f9c6-c071-4018-a141-707af840a85c",
   "metadata": {},
   "source": []
  },
  {
   "cell_type": "markdown",
   "id": "f2ef77e5-b831-4fc3-8a92-bec53ec114c0",
   "metadata": {},
   "source": []
  },
  {
   "cell_type": "markdown",
   "id": "959f45b4-f598-4105-8712-aeecb79494da",
   "metadata": {},
   "source": [
    "## Needed Constants\n",
    "The following are constants which will be queried once for each session.\n",
    "\n",
    "As I will be using these global variables throughout my functions, they will be in uppercase to make them easier to notice.\n",
    "\n",
    "Please note the use of `getpass` here. If running this yourself, enter your own information when prompted."
   ]
  },
  {
   "cell_type": "code",
   "execution_count": 2,
   "id": "7f09a0f7-f51c-4f71-8d05-8b61b42ef995",
   "metadata": {},
   "outputs": [
    {
     "name": "stdin",
     "output_type": "stream",
     "text": [
      "Enter your username ········\n",
      "Enter your password ········\n"
     ]
    }
   ],
   "source": [
    "USER_NAME = getpass.getpass('Enter your username')\n",
    "PASSWORD = getpass.getpass('Enter your password')\n",
    "\n",
    "API_URL = \"https://transkribus.eu/TrpServer/rest/\"\n",
    "SESSION_CACHE = {}       # Store as a dictionary\n",
    "COLLECTIONS_CACHE = []   # Store as a json"
   ]
  },
  {
   "cell_type": "markdown",
   "id": "d1098719-b2ae-4248-9c5d-8b2c3b96a609",
   "metadata": {},
   "source": [
    "Notice I'm using `API_URL` to represent the server we're interfacing with.\n",
    "\n",
    "You can find all the paths you can interface with at this [link](https://transkribus.eu/TrpServer/rest/application.wadl?detail=true).\n",
    "\n",
    "A more visually pleasing version of these paths can be found [here](https://transkribus.eu/TrpServer/Swadl/wadl.html).\n",
    "\n",
    "You may also learn more about the available API at their [website](https://readcoop.eu/transkribus/docu/rest-api/)."
   ]
  },
  {
   "cell_type": "markdown",
   "id": "d483168f-2f22-406a-96aa-91ce84cfec19",
   "metadata": {},
   "source": []
  },
  {
   "cell_type": "markdown",
   "id": "4a35d918-1ecd-4fe0-929f-5397a64425c4",
   "metadata": {},
   "source": []
  },
  {
   "cell_type": "markdown",
   "id": "614e2535-ecfa-407c-8c0f-032b7562b3d7",
   "metadata": {},
   "source": [
    "## Useful Links\n",
    "\n",
    "The following may prove useful when considering how to connect to Transkribus\n",
    "\n",
    "- [Solo Dev API Test - Sydney Stock Exchange](https://github.com/wragge/sydney-stock-exchange/blob/b1365b230c67bf14ffebac81d7c22b610f4e2248/transkribus-api-tests.ipynb)\n",
    "    - This repo brought to my attention the use of `requests.Session` for which you can find out more at [this link](https://docs.python-requests.org/en/latest/user/advanced/). \n",
    "- [WADL Files and Packages](https://pypi.org/project/wadllib/)\n",
    "    - Apparently there are packages in python which can help users interact with [Web Application Description Language](https://www.w3.org/submissions/wadl/) which this particular API is built on. I haven't tried it, but am noting it here."
   ]
  },
  {
   "cell_type": "markdown",
   "id": "7f10e92d-7d65-4ec0-9a31-729a229c4b1c",
   "metadata": {},
   "source": []
  },
  {
   "cell_type": "markdown",
   "id": "9730fee8-b77d-421f-9d7f-c533350449a3",
   "metadata": {},
   "source": []
  },
  {
   "cell_type": "markdown",
   "id": "e0adb059-d5f1-4892-8f55-9ff93b81514b",
   "metadata": {},
   "source": [
    "## Helper Functions\n"
   ]
  },
  {
   "cell_type": "markdown",
   "id": "f261196a-986e-4fe1-b606-eddb01384ffe",
   "metadata": {},
   "source": [
    "The following are useful details when examining the below functions.\n",
    "\n",
    "At a later date I may place these in their own files and import them.\n",
    "\n",
    "_Bear in mind comments will also be added to the functions, and elsewhere, to help understand them._\n",
    "\n",
    "---\n",
    "\n",
    "\n",
    "How truthiness works in Python:\n",
    "- [Link to docs](https://docs.python.org/3/library/stdtypes.html#truth-value-testing)\n",
    "- I will use `bool` _where possible_ to explicitly note that I'm comparing a boolean, but note that **using `bool` explicitly is not required**. I simply believe it makes the code easier to read.\n",
    "- Essentially Python will treat the folliwng as False when evaluated for truthiness:\n",
    "    - Constants defined to be false: `None` and `False`.\n",
    "    - Zero of any numeric type: `0`, `0.0`, `0j`, `Decimal(0)`, `Fraction(0, 1)`.\n",
    "    - Empty sequences and collections: `''`, `()`, `[]`, `{}`, `set()`, `range(0)`.\n",
    "\n",
    "Shorthand for `if else` statements\n",
    "- [Link to docs](https://docs.python.org/3/reference/expressions.html#conditional-expressions)\n",
    "- We may write a general `if else` statement in Python with the following shorthand:\n",
    "    - `x if C else y` where `x` is evaluated if `C` is `True`, else `y` will be evaluated when `C` is `False`."
   ]
  },
  {
   "cell_type": "markdown",
   "id": "6b90dbb8-439a-458c-b5f9-fa06d4eb76da",
   "metadata": {},
   "source": []
  },
  {
   "cell_type": "markdown",
   "id": "d83e84df-41b9-43b6-a7f2-455f0afa02f7",
   "metadata": {},
   "source": []
  },
  {
   "cell_type": "code",
   "execution_count": 3,
   "id": "45045ab9-fad2-44b1-8440-1dcd6cc06f6d",
   "metadata": {},
   "outputs": [],
   "source": [
    "def correct_url(url, add_w = False):\n",
    "    \"\"\"\n",
    "    Corrects a URL by ensuring it has a scheme, proper path, and network location.\n",
    "\n",
    "    Args:\n",
    "        url (str): The URL to be corrected.\n",
    "        add_w (bool, optional): If True, add 'www.' to the front of the link. Defaults to False\n",
    "\n",
    "    Returns:\n",
    "        ParsedURL: The parsed URL object.\n",
    "    \"\"\"\n",
    "\n",
    "    ### Parse the url\n",
    "    up = urlparse(url)\n",
    "\n",
    "    ### Reformat the url\n",
    "    up = up._replace(scheme = 'https' if not bool(up.scheme) else up.scheme)\n",
    "    netloc, _, path = (up.netloc or up.path).partition('/')\n",
    "    up = up._replace(path = re.sub( '/+', '/', up.path if bool(up.netloc) else path) )\n",
    "    # Add `www` to the website if needed\n",
    "    netloc = ('www.' + netloc) if bool(add_w) else netloc\n",
    "    up = up._replace(netloc = re.sub('^w*.?w*w.', 'www.', netloc))\n",
    "\n",
    "    return up\n",
    "\n",
    "\n",
    "#####################################\n",
    "#####################################\n",
    "#####################################\n",
    "\n",
    "\n",
    "def create_session(retry_num = 5,\n",
    "                   backoff_factor = 0.5,\n",
    "                   status_forcelist = [502, 503, 504],\n",
    "                   ####\n",
    "                   headers = None):\n",
    "    \"\"\"\n",
    "    Creates an HTTP session with retry settings and headers.    \n",
    "\n",
    "    Args:\n",
    "        retry_num (int, optional): The maximum number of retries. Defaults to 5\n",
    "        backoff_factor (float, optional): The backoff factor. Defaults to 0.5\n",
    "        status_forcelist (list, optional): HTTP status codes on which to retry. Defaults to [502, 503, 504]\n",
    "        headers (dict, optional): The headers to use continuouly through this session. Defaults to None\n",
    "\n",
    "    Returns:\n",
    "        requests.sessions.Session: The created session.\n",
    "    \"\"\"\n",
    "    session = requests.Session()\n",
    "    \n",
    "    # Configure retry behavior\n",
    "    retries = requests.packages.urllib3.util.retry.Retry(\n",
    "        total = retry_num,  # Maximum number of retries\n",
    "        backoff_factor = backoff_factor,  # Exponential backoff factor (0.5 means 1s, 2s, 4s, 8s, ...)\n",
    "        status_forcelist = status_forcelist,  # Retry on these HTTP status codes\n",
    "    )\n",
    "    \n",
    "    # Mount the retry settings to both HTTP and HTTPS adapters\n",
    "    session.mount('http://', requests.adapters.HTTPAdapter(max_retries = retries))\n",
    "    session.mount('https://', requests.adapters.HTTPAdapter(max_retries = retries))\n",
    "    \n",
    "    ###\n",
    "    \n",
    "    # Add/Update headers\n",
    "    if (headers is not None) and isinstance(headers, dict):\n",
    "        session.headers.update(headers)\n",
    "    \n",
    "    return session\n",
    "\n",
    "\n",
    "#####################################\n",
    "#####################################\n",
    "#####################################\n",
    "\n",
    "\n",
    "def act_on_url(url,\n",
    "               ###\n",
    "               method = 'GET',\n",
    "               req_data = None,\n",
    "               timeout = 20,\n",
    "               backoff_factor = 0.5,\n",
    "               retry_num = 5,\n",
    "               ###\n",
    "               add_w = False,\n",
    "               ###\n",
    "               session = None,\n",
    "               **kwargs):\n",
    "    \"\"\"\n",
    "    Fetches the body from a URL after carrying out some 'act', be that `GET`, `POST`, or otherwise.\n",
    "\n",
    "    Args:\n",
    "        url (str): The URL to fetch data from.\n",
    "        method (str, optional): The HTTP method to use. Defaults to 'GET'.\n",
    "        req_data (dict, optional): Request data. Defaults to None.\n",
    "        timeout (int, optional): The number of seconds to wait for the server. Defaults to 20.        \n",
    "\n",
    "        ### Inherited from `create_session` ###\n",
    "        backoff_factor (float, optional): The backoff factor. Defaults to 0.5.\n",
    "        retry_num (int, optional): The number of retries. Defaults to 5.\n",
    "        \n",
    "        ### Inherited from `correct_url`, excluding 'url' ###\n",
    "        add_w (bool, optional): If True, add 'www.' to the front of the link.\n",
    "        \n",
    "        Notice the use of `**kwargs` which allows us to hand off all other named inputs.\n",
    "        If you're interested, check this nice tutorial imo, Link: https://calmcode.io/course/args-kwargs/introduction\n",
    "\n",
    "    Returns:\n",
    "        requests.Response: The response object.\n",
    "    \"\"\"\n",
    "\n",
    "    # Notice the use of `.geturl()`\n",
    "    parsed_url = correct_url(url, add_w = add_w).geturl()\n",
    "\n",
    "    # Choose a session or create one\n",
    "    if (session is not None) and isinstance(session, requests.sessions.Session):\n",
    "        sess = session\n",
    "    else:\n",
    "        sess = create_session(retry_num = retry_num, backoff_factor = backoff_factor) #requests.Session()\n",
    "        \n",
    "    with sess as s:\n",
    "        try:\n",
    "            response = requests.Request(method = method, url = parsed_url, data = req_data, **kwargs)\n",
    "            prepped = s.prepare_request(response)\n",
    "            resp = s.send(prepped, timeout = timeout)\n",
    "            resp.raise_for_status()  # Raise an exception if the request failed, otherwise returns `None`\n",
    "            return resp\n",
    "        except requests.exceptions.HTTPError as http_err:\n",
    "            print(f'HTTP error occurred for the url {parsed_url}:\\n\\t {http_err}')\n",
    "            return resp\n",
    "        except requests.exceptions.Timeout:\n",
    "            print('The request timed out')\n",
    "            return resp\n",
    "        except Exception as err:\n",
    "            print(f'Other error occurred for the url {parsed_url}:\\n\\t {err}')\n",
    "            return resp\n",
    "\n",
    "\n",
    "#####################################\n",
    "#####################################\n",
    "#####################################\n",
    "\n",
    "\n",
    "def build_headers(sessionid = None):\n",
    "    \"\"\"\n",
    "    Build headers to use for authenticated session\n",
    "\n",
    "    Args:\n",
    "        sessionid (str): The Session ID as a string.\n",
    "\n",
    "    Returns:\n",
    "        dict: The headers for the session.\n",
    "    \"\"\"\n",
    "    if not bool(sessionid):\n",
    "        return None\n",
    "\n",
    "    # This references a global variable implicitly. It can be quite a bad idea to design in this way\n",
    "    # Thus do this with caution\n",
    "    header = {'Cookie': f'''JSESSIONID={SESSION_CACHE['sessionId']}'''}\n",
    "    #header.update( {'Content-Type': 'application/x-www-form-urlencoded'} )\n",
    "    \n",
    "    return header\n",
    "\n",
    "\n",
    "#####################################\n",
    "#####################################\n",
    "#####################################\n",
    "\n",
    "\n",
    "def authenticate(url = f'{API_URL}auth/login',\n",
    "                 ###\n",
    "                 method = 'POST',\n",
    "                 req_data = {'user': USER_NAME, 'pw': PASSWORD},\n",
    "                 print_results = False,\n",
    "                 session = None,\n",
    "                 **kwargs):\n",
    "    \"\"\"\n",
    "    Logs in to the Transkribus server.\n",
    "\n",
    "    Args:\n",
    "        ### Inhereted ALL from `act_on_url` EXCEPT 'print_results', but changes the defaults for the following ###\n",
    "        url (str, optional): The URL to fetch data from. Defaults to the login URL, 'https://transkribus.eu/TrpServer/rest/auth/login'.\n",
    "        method (str, optional): The HTTP method to use. Defaults to 'POST'.\n",
    "        req_data (dict, optional): Request data. Defaults to {'user': USER_NAME, 'pw': PASSWORD}.\n",
    "        print_results (bool, optional): Whether to print the login results. Defaults to False.\n",
    "\n",
    "    Returns:\n",
    "        dict or requests.Response:  The session as a dict on success, the failed response otherwise.\n",
    "    \"\"\"\n",
    "\n",
    "    # Get the response from the url\n",
    "    response = act_on_url(url, method = method, req_data = req_data, session = session, **kwargs)\n",
    "\n",
    "    ### Returns response from the page as text and parses it, assuming its an XML file\n",
    "    # You can confirm what page is encoded as (e.g. text, json, xml, etc.) using the\n",
    "    # following function/method(?), `response.headers['Content-Type']`, where response is the response object\n",
    "    root = ET.fromstring(response.text) \n",
    "    \n",
    "    session_cache = {}\n",
    "    for child in root:\n",
    "        session_cache.update({child.tag : child.text})\n",
    "        if bool(print_results):\n",
    "            if child.tag != 'ip':\n",
    "                print(f\"{child.tag}: {child.text}\")\n",
    "\n",
    "    if bool(session_cache['sessionId']):\n",
    "        return session_cache\n",
    "    else:\n",
    "        print('failed to get session details from authentication')\n",
    "        return response"
   ]
  },
  {
   "cell_type": "markdown",
   "id": "ab0b8354-4d0c-44c7-b38b-96f3cb593120",
   "metadata": {},
   "source": []
  },
  {
   "cell_type": "markdown",
   "id": "f374ff62-708f-4623-9c68-b1841c2ddc8c",
   "metadata": {},
   "source": []
  },
  {
   "cell_type": "markdown",
   "id": "8ad84f8c-9579-4d51-9606-8d966ffb3f73",
   "metadata": {},
   "source": []
  },
  {
   "cell_type": "markdown",
   "id": "f5c1633a-42c9-44d8-8ac6-30fa17cffbf8",
   "metadata": {},
   "source": [
    "#### Authenticate and Get Session Key"
   ]
  },
  {
   "cell_type": "markdown",
   "id": "ce2dac9c-d6e6-4162-b572-a857c07ef6cf",
   "metadata": {},
   "source": [
    "Our first step is to get our session key through authentication.\n",
    "\n",
    "If you wish to see your details printed, switch `False` to `True`."
   ]
  },
  {
   "cell_type": "code",
   "execution_count": 4,
   "id": "44cecc21-bf6c-42bc-ba5d-8a6febd11c63",
   "metadata": {},
   "outputs": [],
   "source": [
    "SESSION_CACHE = authenticate(print_results = False)"
   ]
  },
  {
   "cell_type": "code",
   "execution_count": 5,
   "id": "3fc94c41-1a34-4c2c-be2b-50b4d3fccc8e",
   "metadata": {},
   "outputs": [
    {
     "data": {
      "text/plain": [
       "'D17BC690D59B7E9C9899DB999FDB9D80'"
      ]
     },
     "execution_count": 5,
     "metadata": {},
     "output_type": "execute_result"
    }
   ],
   "source": [
    "SESSION_CACHE['sessionId']"
   ]
  },
  {
   "cell_type": "markdown",
   "id": "335936e7-d325-4beb-8d48-99a0d617a2ab",
   "metadata": {},
   "source": []
  },
  {
   "cell_type": "markdown",
   "id": "0dfcfe0f-46ae-4737-9698-1cd61e59b620",
   "metadata": {},
   "source": []
  },
  {
   "cell_type": "markdown",
   "id": "bf10bed5-1d73-4f34-9b67-4add366071fa",
   "metadata": {},
   "source": [
    "#### Build Headers & Session to Use Throughout"
   ]
  },
  {
   "cell_type": "markdown",
   "id": "33eea67c-56bd-4eeb-bfe9-627deac451dd",
   "metadata": {},
   "source": [
    "We next build the headers which will be used throughout the entire task."
   ]
  },
  {
   "cell_type": "code",
   "execution_count": 6,
   "id": "0208cb90-4b7e-44f0-8cb1-ba48e7f00f73",
   "metadata": {},
   "outputs": [],
   "source": [
    "headers = build_headers(sessionid = SESSION_CACHE['sessionId'])"
   ]
  },
  {
   "cell_type": "code",
   "execution_count": 7,
   "id": "230907e7-2be8-4234-b74a-858e04cee5f3",
   "metadata": {},
   "outputs": [
    {
     "data": {
      "text/plain": [
       "{'Cookie': 'JSESSIONID=D17BC690D59B7E9C9899DB999FDB9D80'}"
      ]
     },
     "execution_count": 7,
     "metadata": {},
     "output_type": "execute_result"
    }
   ],
   "source": [
    "headers"
   ]
  },
  {
   "cell_type": "markdown",
   "id": "7ff17b30-4820-4a8d-b018-234a2b8a0352",
   "metadata": {},
   "source": []
  },
  {
   "cell_type": "markdown",
   "id": "0c43a579-f5e8-4985-baff-8e395a8a9e7a",
   "metadata": {},
   "source": [
    "Our session is then constructed which includes our authentication key.\n",
    "\n",
    "Instead of referencing the authentication key directly, we'll instead reference the session."
   ]
  },
  {
   "cell_type": "code",
   "execution_count": 8,
   "id": "c8756b32-8be3-4124-a358-e294f743748b",
   "metadata": {},
   "outputs": [],
   "source": [
    "s = create_session(headers = headers)"
   ]
  },
  {
   "cell_type": "markdown",
   "id": "ee7dfbb2-3308-41f8-84e3-008059bea910",
   "metadata": {},
   "source": []
  },
  {
   "cell_type": "markdown",
   "id": "07d00a0d-4079-4218-b805-39ddbbb8838f",
   "metadata": {},
   "source": []
  },
  {
   "cell_type": "markdown",
   "id": "1a6ebd90-6ca8-4b0d-9b7a-3fd7dc34c5cf",
   "metadata": {},
   "source": [
    "#### Check  Collection List"
   ]
  },
  {
   "cell_type": "markdown",
   "id": "9d78e319-7af5-4fcb-839f-00e4549091cb",
   "metadata": {},
   "source": [
    "Note the following:\n",
    "- We use `.json()` at the end of our function to directly translate its content as json."
   ]
  },
  {
   "cell_type": "code",
   "execution_count": 9,
   "id": "ea2d7e9f-f489-4838-9a0d-d3f5e8fe135a",
   "metadata": {},
   "outputs": [],
   "source": [
    "collection_list_json = act_on_url(url = f'{API_URL}collections/list', session = s).json()"
   ]
  },
  {
   "cell_type": "code",
   "execution_count": 10,
   "id": "e2f98e98-18dc-4ac8-8a2b-6e677c344140",
   "metadata": {},
   "outputs": [
    {
     "data": {
      "text/plain": [
       "[{'type': 'trpCollection',\n",
       "  'colId': 284394,\n",
       "  'colName': 'dario.dat.c+rcoop@gmail.com Collection',\n",
       "  'description': 'dario.dat.c+rcoop@gmail.com',\n",
       "  'created': '2024-03-01T16:10:50.344+01:00',\n",
       "  'crowdsourcing': False,\n",
       "  'elearning': False,\n",
       "  'pageId': 66002544,\n",
       "  'url': 'https://files.transkribus.eu/Get?fileType=view&id=QPDSFBPIZVUZVXYCWHTJLNHD',\n",
       "  'thumbUrl': 'https://files.transkribus.eu/Get?fileType=thumb&id=QPDSFBPIZVUZVXYCWHTJLNHD',\n",
       "  'nrOfDocuments': 3,\n",
       "  'role': 'Owner',\n",
       "  'accountingStatus': 1}]"
      ]
     },
     "execution_count": 10,
     "metadata": {},
     "output_type": "execute_result"
    }
   ],
   "source": [
    "collection_list_json"
   ]
  },
  {
   "cell_type": "markdown",
   "id": "aa2c4ed1-4444-4e0f-b325-f3379ec78731",
   "metadata": {},
   "source": []
  },
  {
   "cell_type": "markdown",
   "id": "88e7e969-607f-4173-9ee2-bf93e19a1d4f",
   "metadata": {},
   "source": [
    "If we have different collections,\n",
    "this is one way which allows us to get a quick overview for all of them.\n",
    "\n",
    "This method of using loops and relevant keys will be repeated throughout this notebook."
   ]
  },
  {
   "cell_type": "code",
   "execution_count": 11,
   "id": "a29c3364-f14c-49eb-abac-e866eeed9d73",
   "metadata": {},
   "outputs": [
    {
     "name": "stdout",
     "output_type": "stream",
     "text": [
      "Id num.: 284394\t|\tDescription: dario.dat.c+rcoop@gmail.com\t|\tnum. of Doc.: 3\n"
     ]
    }
   ],
   "source": [
    "for dict in collection_list_json:\n",
    "    print('Id num.', ': ', dict['colId'],\n",
    "          '\\t|\\t',\n",
    "          'Description', ': ', dict['description'], # Depending on the length, it may be good to remove\n",
    "          '\\t|\\t',\n",
    "          'num. of Doc.', ': ', dict['nrOfDocuments'],\n",
    "          sep = '')"
   ]
  },
  {
   "cell_type": "markdown",
   "id": "29d529f1-47b7-4de1-84d0-24626ff136ac",
   "metadata": {},
   "source": []
  },
  {
   "cell_type": "markdown",
   "id": "36cd2356-a9a8-4de1-a0cf-92cee41dc45e",
   "metadata": {},
   "source": []
  },
  {
   "cell_type": "markdown",
   "id": "d23dec7d-4979-4762-b5ff-7479ddb46378",
   "metadata": {},
   "source": [
    "#### Check The Documents in a Specific Collection"
   ]
  },
  {
   "cell_type": "markdown",
   "id": "a2b9cf72-2ffe-4686-a04e-9c1bb7f7986a",
   "metadata": {},
   "source": [
    "Here we select the collection id we're interested in.\n",
    "\n",
    "As it's a json file we switch between using an index (i.e. numbers) and keys (i.e. text) to query the part we're interested in.\n",
    "\n",
    "This method of querying is also repeated thoughout this notebook."
   ]
  },
  {
   "cell_type": "code",
   "execution_count": 12,
   "id": "6b93114e-8b49-4889-8ebb-841dc0fb7c4f",
   "metadata": {},
   "outputs": [],
   "source": [
    "col_id = collection_list_json[0]['colId']"
   ]
  },
  {
   "cell_type": "markdown",
   "id": "5274ee02-2fd3-46a6-af92-aaadff2feaf5",
   "metadata": {},
   "source": []
  },
  {
   "cell_type": "markdown",
   "id": "f5cb601f-3760-4710-b48b-c304aa7aa45f",
   "metadata": {},
   "source": [
    "Notice below how we're inserting the collection id into the url.\n",
    "\n",
    "This insertion can be done programtically if needed."
   ]
  },
  {
   "cell_type": "code",
   "execution_count": 13,
   "id": "da9b5584-3779-4b59-b48a-e99021e09e2d",
   "metadata": {},
   "outputs": [],
   "source": [
    "document_list_json = act_on_url(url = f'{API_URL}collections/{col_id}/list', session = s).json()"
   ]
  },
  {
   "cell_type": "markdown",
   "id": "85dd173a-a6e9-4ee7-a780-9aa4755036c5",
   "metadata": {},
   "source": []
  },
  {
   "cell_type": "code",
   "execution_count": 14,
   "id": "c5f24637-f608-4fb0-8b6a-070404ca6cc9",
   "metadata": {},
   "outputs": [
    {
     "data": {
      "text/plain": [
       "[{'type': 'trpDocMetadata',\n",
       "  'docId': 1858998,\n",
       "  'title': 'test_1',\n",
       "  'uploadTimestamp': 1709505983687,\n",
       "  'uploader': 'dario.dat.c+rcoop@gmail.com',\n",
       "  'uploaderId': 223153,\n",
       "  'nrOfPages': 1,\n",
       "  'pageId': 66002544,\n",
       "  'url': 'https://files.transkribus.eu/Get?fileType=view&id=QPDSFBPIZVUZVXYCWHTJLNHD',\n",
       "  'thumbUrl': 'https://files.transkribus.eu/Get?fileType=thumb&id=QPDSFBPIZVUZVXYCWHTJLNHD',\n",
       "  'status': 0,\n",
       "  'fimgStoreColl': 'TrpDoc_DEA_1858998',\n",
       "  'origDocId': 0,\n",
       "  'collectionList': {'colList': [{'colId': 284394,\n",
       "     'colName': 'dario.dat.c+rcoop@gmail.com Collection',\n",
       "     'description': 'dario.dat.c+rcoop@gmail.com',\n",
       "     'crowdsourcing': False,\n",
       "     'elearning': False,\n",
       "     'nrOfDocuments': 0}]},\n",
       "  'attributes': [],\n",
       "  'mainColId': 284394,\n",
       "  'isInMain': True},\n",
       " {'type': 'trpDocMetadata',\n",
       "  'docId': 1865707,\n",
       "  'title': 'test_title',\n",
       "  'author': 'test_author',\n",
       "  'uploadTimestamp': 1709774302892,\n",
       "  'genre': 'test_genre',\n",
       "  'writer': 'test_writer',\n",
       "  'uploader': 'dario.dat.c+rcoop@gmail.com',\n",
       "  'uploaderId': 223153,\n",
       "  'nrOfPages': 1,\n",
       "  'pageId': 66215807,\n",
       "  'url': 'https://files.transkribus.eu/Get?fileType=view&id=NMYYUNSTLYLNQWZFRDZCWXAG',\n",
       "  'thumbUrl': 'https://files.transkribus.eu/Get?fileType=thumb&id=NMYYUNSTLYLNQWZFRDZCWXAG',\n",
       "  'status': 0,\n",
       "  'fimgStoreColl': 'TrpDoc_DEA_1865707',\n",
       "  'origDocId': 0,\n",
       "  'collectionList': {'colList': [{'colId': 284394,\n",
       "     'colName': 'dario.dat.c+rcoop@gmail.com Collection',\n",
       "     'description': 'dario.dat.c+rcoop@gmail.com',\n",
       "     'crowdsourcing': False,\n",
       "     'elearning': False,\n",
       "     'nrOfDocuments': 0}]},\n",
       "  'attributes': [],\n",
       "  'mainColId': 284394,\n",
       "  'isInMain': True}]"
      ]
     },
     "execution_count": 14,
     "metadata": {},
     "output_type": "execute_result"
    }
   ],
   "source": [
    "document_list_json"
   ]
  },
  {
   "cell_type": "markdown",
   "id": "2b9212e6-3716-495c-9934-d21ee47db0d4",
   "metadata": {},
   "source": []
  },
  {
   "cell_type": "markdown",
   "id": "bc7e14a1-e45e-4b7f-be37-0cbf3ba4398a",
   "metadata": {},
   "source": [
    "Similar to the above collection list, we can also pull specific details each document in the list."
   ]
  },
  {
   "cell_type": "code",
   "execution_count": 15,
   "id": "e223382c-dfba-48df-8d71-d9a96557056e",
   "metadata": {},
   "outputs": [
    {
     "name": "stdout",
     "output_type": "stream",
     "text": [
      "Id num.: 1858998\t|\tTitle: test_1\t|\tnum. of Pages: 1\n",
      "Id num.: 1865707\t|\tTitle: test_title\t|\tnum. of Pages: 1\n"
     ]
    }
   ],
   "source": [
    "for dict in document_list_json:\n",
    "    print('Id num.', ': ', dict['docId'],\n",
    "          '\\t|\\t',\n",
    "          'Title', ': ', dict['title'],\n",
    "          '\\t|\\t',\n",
    "          'num. of Pages', ': ', dict['nrOfPages'],\n",
    "          sep = '')"
   ]
  },
  {
   "cell_type": "markdown",
   "id": "962650af-7054-4097-a3d3-957ae8774a62",
   "metadata": {},
   "source": []
  },
  {
   "cell_type": "markdown",
   "id": "6a19917a-eae8-49b7-ab1f-97704d31b72f",
   "metadata": {},
   "source": []
  },
  {
   "cell_type": "markdown",
   "id": "5de1923c-b52f-44bc-9bd8-7a612540946f",
   "metadata": {},
   "source": [
    "#### Check a Specific Document"
   ]
  },
  {
   "cell_type": "markdown",
   "id": "9f83ccda-545b-4b85-8a4a-1d1dbe2f1c37",
   "metadata": {},
   "source": [
    "Here we select the document id we're interested in."
   ]
  },
  {
   "cell_type": "code",
   "execution_count": 16,
   "id": "3e9ee718-0414-47a3-92fd-a71a043e902b",
   "metadata": {},
   "outputs": [],
   "source": [
    "doc_id = document_list_json[0]['docId']"
   ]
  },
  {
   "cell_type": "markdown",
   "id": "e6ddd720-7530-4e02-815a-03893b753180",
   "metadata": {},
   "source": []
  },
  {
   "cell_type": "markdown",
   "id": "f858f811-0abf-4e22-bb04-40088b85ff12",
   "metadata": {},
   "source": [
    "Next we get the full details for this particular document."
   ]
  },
  {
   "cell_type": "code",
   "execution_count": 17,
   "id": "33094f50-2ec8-41a4-a40b-e3a94762f223",
   "metadata": {},
   "outputs": [],
   "source": [
    "full_document_json = act_on_url(url = f'''{API_URL}collections/{col_id}/{doc_id}/fulldoc''', session = s).json()"
   ]
  },
  {
   "cell_type": "markdown",
   "id": "a2cf87c6-beb1-49be-89d4-94e17d60f419",
   "metadata": {},
   "source": []
  },
  {
   "cell_type": "markdown",
   "id": "6f6ef3fb-a26a-4e00-b0e6-100a5770337e",
   "metadata": {},
   "source": [
    "Note the use of semi colon after our statement, this stops the code from displaying anything, if you wish to see the contents, simply remove the semi colon."
   ]
  },
  {
   "cell_type": "code",
   "execution_count": 18,
   "id": "d05bbc5f-51c2-4f38-81c7-38a0cd6a3041",
   "metadata": {},
   "outputs": [],
   "source": [
    "full_document_json;"
   ]
  },
  {
   "cell_type": "markdown",
   "id": "12069a76-248d-47e3-b0a3-bba478062b1c",
   "metadata": {},
   "source": []
  },
  {
   "cell_type": "markdown",
   "id": "0099597b-a256-4b65-9565-faea456b3c0e",
   "metadata": {},
   "source": [
    "As before, we iterate through the json."
   ]
  },
  {
   "cell_type": "code",
   "execution_count": 19,
   "id": "b0a0bc94-b03e-43e6-8605-eb9d892d7827",
   "metadata": {},
   "outputs": [
    {
     "name": "stdout",
     "output_type": "stream",
     "text": [
      "nrOfRegions: 3\n",
      "nrOfTranscribedLines: 37\n",
      "nrOfTranscribedWords: 296\n"
     ]
    }
   ],
   "source": [
    "for val in ('nrOfRegions', 'nrOfTranscribedLines', 'nrOfTranscribedWords'):\n",
    "    print(val, ': ', full_document_json['md'][val], sep = '')"
   ]
  },
  {
   "cell_type": "markdown",
   "id": "fd228cb4-0582-4439-911c-8084d28c79f8",
   "metadata": {},
   "source": []
  },
  {
   "cell_type": "markdown",
   "id": "e400630a-1133-4d2f-9902-bad5a60691dc",
   "metadata": {},
   "source": []
  },
  {
   "cell_type": "markdown",
   "id": "84274363-dc56-4866-bf2d-20c61daf38fd",
   "metadata": {},
   "source": [
    "#### Check Jobs List"
   ]
  },
  {
   "cell_type": "markdown",
   "id": "fda7056d-ff11-475b-80f3-68ef03c292c7",
   "metadata": {},
   "source": []
  },
  {
   "cell_type": "code",
   "execution_count": 20,
   "id": "33840d48-0ece-494e-8ef9-aae4244e283b",
   "metadata": {},
   "outputs": [],
   "source": [
    "job_list_json = act_on_url(url = f'{API_URL}jobs/list', session = s).json()"
   ]
  },
  {
   "cell_type": "markdown",
   "id": "c04e0982-4512-4aa9-abc0-56bd6d3b04ee",
   "metadata": {},
   "source": []
  },
  {
   "cell_type": "code",
   "execution_count": 21,
   "id": "78e647d1-a4bb-4b74-b34e-f13555014b02",
   "metadata": {},
   "outputs": [],
   "source": [
    "job_list_json;"
   ]
  },
  {
   "cell_type": "markdown",
   "id": "8e21eeb9-f911-40a3-bbd5-ce15c2c748d4",
   "metadata": {},
   "source": []
  },
  {
   "cell_type": "code",
   "execution_count": 22,
   "id": "d6172a29-a199-4527-b2e5-f3521b78a6b4",
   "metadata": {},
   "outputs": [
    {
     "name": "stdout",
     "output_type": "stream",
     "text": [
      "Job Id num.: 8354205\t|\tDoc. Id num.: 1878170\t|\tType: Create Document\t|\tState: FINISHED\t|\tSucceeded: True\n",
      "Job Id num.: 8275348\t|\tDoc. Id num.: 1865707\t|\tType: Create Document\t|\tState: FINISHED\t|\tSucceeded: True\n",
      "Job Id num.: 8224005\t|\tDoc. Id num.: 1858998\t|\tType: PyLaia Decoding\t|\tState: FINISHED\t|\tSucceeded: True\n",
      "Job Id num.: 8223063\t|\tDoc. Id num.: 1858998\t|\tType: Create Document\t|\tState: FINISHED\t|\tSucceeded: True\n"
     ]
    }
   ],
   "source": [
    "for dict in job_list_json:\n",
    "    print('Job Id num.', ': ', dict['jobId'],\n",
    "          '\\t|\\t',\n",
    "          'Doc. Id num.', ': ', dict['docId'],\n",
    "          '\\t|\\t',\n",
    "          'Type', ': ', dict['type'],\n",
    "          '\\t|\\t',\n",
    "          'State', ': ', dict['state'],\n",
    "          '\\t|\\t',\n",
    "          'Succeeded', ': ', dict['success'],\n",
    "          sep = '')"
   ]
  },
  {
   "cell_type": "markdown",
   "id": "4872a3a6-7ff8-4faf-a14e-42c9b1ac4b53",
   "metadata": {},
   "source": []
  },
  {
   "cell_type": "markdown",
   "id": "d390c639-501c-4841-8d82-9763d0068fa2",
   "metadata": {},
   "source": []
  },
  {
   "cell_type": "markdown",
   "id": "28c0756d-1338-4503-847d-592e49fc02d5",
   "metadata": {},
   "source": [
    "#### Check a Specific Job"
   ]
  },
  {
   "cell_type": "markdown",
   "id": "b135f1ed-8303-480b-8f2d-b5b1d30d02fe",
   "metadata": {},
   "source": []
  },
  {
   "cell_type": "code",
   "execution_count": 23,
   "id": "804f83a9-ec7e-423b-a01d-8e01e082a4c4",
   "metadata": {},
   "outputs": [],
   "source": [
    "job_id = job_list_json[0]['jobId']"
   ]
  },
  {
   "cell_type": "markdown",
   "id": "7076cf75-d274-4524-8e5e-dc1e9703e4ea",
   "metadata": {},
   "source": []
  },
  {
   "cell_type": "code",
   "execution_count": 24,
   "id": "e221d0a4-d29a-450b-827b-ac8ccdb56de0",
   "metadata": {},
   "outputs": [],
   "source": [
    "full_job_json = act_on_url(url = f'{API_URL}jobs/{job_id}', session = s).json()"
   ]
  },
  {
   "cell_type": "markdown",
   "id": "98a202d9-8d74-4e95-bb4f-ede95f9e5b75",
   "metadata": {},
   "source": []
  },
  {
   "cell_type": "code",
   "execution_count": 25,
   "id": "9112fde0-6696-42ff-a1f8-706a6ce9fbe6",
   "metadata": {},
   "outputs": [
    {
     "data": {
      "text/plain": [
       "{'jobId': '8354205',\n",
       " 'docId': 1878170,\n",
       " 'pageNr': -1,\n",
       " 'type': 'Create Document',\n",
       " 'state': 'FINISHED',\n",
       " 'success': True,\n",
       " 'description': 'Done, duration: 1s 77ms',\n",
       " 'userName': 'dario.dat.c+rcoop@gmail.com',\n",
       " 'userId': 223153,\n",
       " 'createTime': 1710397012368,\n",
       " 'startTime': 1710397012567,\n",
       " 'endTime': 1710397013644,\n",
       " 'jobData': '#Thu Mar 14 07:16:52 CET 2024\\ncolId=284394\\n',\n",
       " 'resumable': False,\n",
       " 'jobImpl': 'UploadImportJob',\n",
       " 'moduleUrl': 'http://srv6155:8080/UtilityModule-trpProd-2.12.0',\n",
       " 'moduleName': 'UtilityModule',\n",
       " 'moduleVersion': '2.12.0',\n",
       " 'started': '2024-03-14T07:16:52.567+01:00',\n",
       " 'ended': '2024-03-14T07:16:53.644+01:00',\n",
       " 'created': '2024-03-14T07:16:52.368+01:00',\n",
       " 'batchId': 0,\n",
       " 'pageid': 0,\n",
       " 'tsid': 0,\n",
       " 'parent_jobid': 0,\n",
       " 'parent_batchid': 0,\n",
       " 'colId': 284394,\n",
       " 'progress': 1,\n",
       " 'totalWork': 1,\n",
       " 'nrOfErrors': 0,\n",
       " 'docTitle': 'Deleted Document',\n",
       " 'priority': 0}"
      ]
     },
     "execution_count": 25,
     "metadata": {},
     "output_type": "execute_result"
    }
   ],
   "source": [
    "full_job_json"
   ]
  },
  {
   "cell_type": "markdown",
   "id": "11df6edf-2632-4749-a5d3-e55ae315fcff",
   "metadata": {},
   "source": []
  },
  {
   "cell_type": "code",
   "execution_count": 26,
   "id": "d94f3b0f-f28a-41f0-be77-36e0feacdf72",
   "metadata": {},
   "outputs": [
    {
     "name": "stdout",
     "output_type": "stream",
     "text": [
      "type: Create Document\n",
      "docTitle: Deleted Document\n",
      "description: Done, duration: 1s 77ms\n",
      "state: FINISHED\n"
     ]
    }
   ],
   "source": [
    "for val in ('type', 'docTitle', 'description', 'state'):\n",
    "    print(val, ': ', full_job_json[val], sep = '')"
   ]
  },
  {
   "cell_type": "markdown",
   "id": "d209bc83-378a-4012-876f-a87c9804c494",
   "metadata": {},
   "source": []
  },
  {
   "cell_type": "markdown",
   "id": "14874e92-6cd1-4258-bd7b-9b5d7074b749",
   "metadata": {},
   "source": []
  },
  {
   "cell_type": "markdown",
   "id": "b8eb60e9-213a-429b-9501-bf51e3a99bda",
   "metadata": {},
   "source": [
    "#### Push an Image to the Server"
   ]
  },
  {
   "cell_type": "markdown",
   "id": "c42d6828-1969-40fa-91cd-8830b77247ba",
   "metadata": {},
   "source": [
    "**Work In Progress**\n",
    "\n",
    "This section is more involved and requires pushing a json object with a specific format to transkribus via `POST`, and then the image file via `PUT`.\n",
    "\n",
    "This json only has a minimum requirements of including a `fileName` and a `pageNr`, all else is optional.\n",
    "\n",
    "Further details, inlcuding the full json template, can be found [here](https://readcoop.eu/transkribus/docu/rest-api/upload/), but for now will use just the minimum example"
   ]
  },
  {
   "cell_type": "code",
   "execution_count": 27,
   "id": "d26386a9-e02a-4a83-9bfd-166cd9c38a77",
   "metadata": {},
   "outputs": [],
   "source": [
    "default_img_up = {\n",
    "    \"md\": {\n",
    "        \"title\": \"test_title_2\",\n",
    "        \"author\": \"test_author\",\n",
    "        \"genre\": \"test_genre\",\n",
    "        \"writer\": \"test_writer\"\n",
    "    },\n",
    "    \"pageList\": {\n",
    "        \"pages\": [\n",
    "            {\n",
    "                \"fileName\": \"view_default.jpg\",\n",
    "                \"pageNr\": 1\n",
    "            }\n",
    "            # Add more details if needed\n",
    "        ]\n",
    "    }\n",
    "}"
   ]
  },
  {
   "cell_type": "markdown",
   "id": "0babe3f4-4b7a-444f-aaee-68a500239dd0",
   "metadata": {},
   "source": []
  },
  {
   "cell_type": "code",
   "execution_count": 28,
   "id": "78f67bf4-5c82-4768-a0e6-ecdfa0f1774a",
   "metadata": {},
   "outputs": [
    {
     "data": {
      "text/plain": [
       "'view_default.jpg'"
      ]
     },
     "execution_count": 28,
     "metadata": {},
     "output_type": "execute_result"
    }
   ],
   "source": [
    "default_img_up['pageList']['pages'][0]['fileName']"
   ]
  },
  {
   "cell_type": "code",
   "execution_count": 31,
   "id": "ab1e9020-fbab-4a2a-a3ce-4c6dace5e2d9",
   "metadata": {},
   "outputs": [],
   "source": [
    "def load_img(api_url = API_URL,\n",
    "             col_id = None,\n",
    "             file_path = None,\n",
    "             def_json = None,\n",
    "             session = None,\n",
    "             headers_post = {'Content-Type': 'application/json'}):\n",
    "    \"\"\"\n",
    "    xxx\n",
    "    \"\"\"\n",
    "\n",
    "    # Logic valid for only one file\n",
    "    file_name = re.split(r'/|\\\\', repr(file_path)[1:-1])[-1]\n",
    "    if file_name != def_json['pageList']['pages'][0]['fileName']:\n",
    "        print('The file name of the image and in the json must match:')\n",
    "        return None \n",
    "                         \n",
    "    \n",
    "    # Post Details\n",
    "    post = act_on_url(url = f'{api_url}uploads?collId={col_id}',\n",
    "                      method = 'POST',\n",
    "                      json = def_json,\n",
    "                      session = session,\n",
    "                      headers = headers_post\n",
    "                     )\n",
    "\n",
    "\n",
    "    # Get upload id\n",
    "    up_id = ET.fromstring(post.text).findall('uploadId')[0].text\n",
    "\n",
    "\n",
    "    # Put Details\n",
    "    with open(file_path, 'rb') as bf:\n",
    "        files = {'img': bf, 'Content-Type': 'application/octet-stream'}\n",
    "        tmp = act_on_url(url = f'{api_url}uploads/{up_id}',\n",
    "                         method = 'PUT',\n",
    "                         files = files,\n",
    "                         session = session)\n",
    "        \n",
    "        \n",
    "        \n",
    "    return tmp    "
   ]
  },
  {
   "cell_type": "markdown",
   "id": "2f32cf46-39b2-4f75-a6ac-a3de7d9edbdf",
   "metadata": {},
   "source": []
  },
  {
   "cell_type": "code",
   "execution_count": 32,
   "id": "6134ccf3-4644-4dad-8afc-afc74a98568c",
   "metadata": {},
   "outputs": [],
   "source": [
    "tmp = load_img(col_id = col_id,\n",
    "               file_path = 'view_default.jpg',\n",
    "               def_json = default_img_up,\n",
    "               session = s)"
   ]
  },
  {
   "cell_type": "markdown",
   "id": "96b785b5-734b-4fbc-8cbe-72b0294cd0ab",
   "metadata": {},
   "source": []
  },
  {
   "cell_type": "code",
   "execution_count": 33,
   "id": "55dda329-6cb0-4f6c-91ca-0b5e6123e06a",
   "metadata": {},
   "outputs": [
    {
     "data": {
      "text/plain": [
       "b'<?xml version=\"1.0\" encoding=\"UTF-8\" standalone=\"yes\"?><trpUpload><md><docId>-1</docId><title>test_title_2</title><author>test_author</author><uploadTimestamp>0</uploadTimestamp><genre>test_genre</genre><writer>test_writer</writer><uploaderId>0</uploaderId><nrOfPages>0</nrOfPages><collectionList/></md><pageList><pages><fileName>view_default.jpg</fileName><pageUploaded>true</pageUploaded><pageNr>1</pageNr></pages></pageList><uploadId>1878176</uploadId><created>2024-03-14T07:24:14.509+01:00</created><finished>2024-03-14T07:24:19.635+01:00</finished><userId>223153</userId><userName>dario.dat.c+rcoop@gmail.com</userName><nrOfPagesTotal>1</nrOfPagesTotal><uploadType>JSON</uploadType><jobId>8354263</jobId><colId>284394</colId></trpUpload>'"
      ]
     },
     "execution_count": 33,
     "metadata": {},
     "output_type": "execute_result"
    }
   ],
   "source": [
    "tmp.content"
   ]
  },
  {
   "cell_type": "code",
   "execution_count": null,
   "id": "22fed4fc-a6b7-4d08-9105-c3dd277e8535",
   "metadata": {},
   "outputs": [],
   "source": []
  },
  {
   "cell_type": "code",
   "execution_count": 34,
   "id": "847d96b3-d16c-42a7-8131-28b396f0220b",
   "metadata": {},
   "outputs": [
    {
     "name": "stdout",
     "output_type": "stream",
     "text": [
      "md\n",
      "\tdocId: -1\n",
      "\ttitle: test_title_2\n",
      "\tauthor: test_author\n",
      "\tuploadTimestamp: 0\n",
      "\tgenre: test_genre\n",
      "\twriter: test_writer\n",
      "\tuploaderId: 0\n",
      "\tnrOfPages: 0\n",
      "\tcollectionList: None\n",
      "pageList\n",
      "\tpages\n",
      "\t\tfileName: view_default.jpg\n",
      "\t\tpageUploaded: true\n",
      "\t\tpageNr: 1\n",
      "uploadId: 1878176\n",
      "created: 2024-03-14T07:24:14.509+01:00\n",
      "finished: 2024-03-14T07:24:19.635+01:00\n",
      "userId: 223153\n",
      "userName: dario.dat.c+rcoop@gmail.com\n",
      "nrOfPagesTotal: 1\n",
      "uploadType: JSON\n",
      "jobId: 8354263\n",
      "colId: 284394\n"
     ]
    }
   ],
   "source": [
    "for child in ET.fromstring(tmp.text):\n",
    "    if not bool(child):\n",
    "        print(f\"{child.tag}: {child.text}\")\n",
    "    else:\n",
    "        print(child.tag)\n",
    "        for x in child:\n",
    "            if not bool(x):\n",
    "                print(f\"\\t{x.tag}: {x.text}\")\n",
    "            else:\n",
    "                print(f'\\t{x.tag}')\n",
    "                for y in x:\n",
    "                    if not bool(y):\n",
    "                        print(f\"\\t\\t{y.tag}: {y.text}\")\n",
    "                    else:\n",
    "                        print(f'\\t\\t{y.tag}')"
   ]
  },
  {
   "cell_type": "code",
   "execution_count": 38,
   "id": "01faf439-738d-40f2-8dda-7d2fca188f46",
   "metadata": {},
   "outputs": [],
   "source": [
    "job_api_id = ET.fromstring(tmp.text).findall('jobId')[0].text"
   ]
  },
  {
   "cell_type": "code",
   "execution_count": 39,
   "id": "ff18940c-e18a-47a5-9eae-04a8b197fdbd",
   "metadata": {},
   "outputs": [
    {
     "data": {
      "text/plain": [
       "'8354263'"
      ]
     },
     "execution_count": 39,
     "metadata": {},
     "output_type": "execute_result"
    }
   ],
   "source": [
    "job_api_id"
   ]
  },
  {
   "cell_type": "markdown",
   "id": "decb5aa6-1850-44f6-9c88-91b0862c25ac",
   "metadata": {},
   "source": []
  },
  {
   "cell_type": "code",
   "execution_count": 40,
   "id": "7a40d5c2-77d4-4680-8da0-faffe0614f63",
   "metadata": {},
   "outputs": [],
   "source": [
    "job_api_details = act_on_url(url = f'''{API_URL}jobs/{job_api_id}''', session = s).json()"
   ]
  },
  {
   "cell_type": "markdown",
   "id": "950eabe8-3fda-47f5-b5b0-68f7b053b8b7",
   "metadata": {},
   "source": []
  },
  {
   "cell_type": "code",
   "execution_count": null,
   "id": "f6f031c1-580e-44b4-9dcf-5f0aa8b07544",
   "metadata": {},
   "outputs": [],
   "source": [
    "job_api_details;"
   ]
  },
  {
   "cell_type": "markdown",
   "id": "bf196658-aa91-4738-8639-9b0b19b57a6f",
   "metadata": {},
   "source": []
  },
  {
   "cell_type": "code",
   "execution_count": 41,
   "id": "fd6cc910-d621-482e-a4d8-764fe8a9fe1a",
   "metadata": {},
   "outputs": [
    {
     "name": "stdout",
     "output_type": "stream",
     "text": [
      "type: Create Document\n",
      "docTitle: test_title_2\n",
      "docId: 1878176\n",
      "colId: 284394\n",
      "description: Done, duration: 1s 244ms\n",
      "state: FINISHED\n"
     ]
    }
   ],
   "source": [
    "\n",
    "for val in ('type', 'docTitle', 'docId', 'colId', 'description', 'state'):\n",
    "    print(val, ': ',\n",
    "          job_api_details[val],\n",
    "          sep = '')"
   ]
  },
  {
   "cell_type": "markdown",
   "id": "9aaf9b0e-217a-4433-bf7f-1468b72ed477",
   "metadata": {},
   "source": []
  },
  {
   "cell_type": "markdown",
   "id": "5e0663cf-8f0a-494b-92c9-063b058d9462",
   "metadata": {},
   "source": []
  },
  {
   "cell_type": "markdown",
   "id": "cb3d57e0-9ad5-4d4b-8ac0-44175e31ed37",
   "metadata": {},
   "source": [
    "#### Start an OCR Job"
   ]
  },
  {
   "cell_type": "markdown",
   "id": "ecdf866f-5763-4e4a-bb9a-d3d185869379",
   "metadata": {},
   "source": []
  },
  {
   "cell_type": "code",
   "execution_count": 43,
   "id": "a2c5f775-51f8-4c04-9aa4-ea34fc667712",
   "metadata": {},
   "outputs": [],
   "source": [
    "col_id_ocr = job_api_details['colId']\n",
    "doc_id_ocr = job_api_details['docId']\n",
    "pgnr_ocr = 1"
   ]
  },
  {
   "cell_type": "markdown",
   "id": "6939ca2b-b032-4893-9872-5d5e19d1a0a3",
   "metadata": {},
   "source": [
    "The link, `https://transkribus.eu/TrpServer/rest/recognition/ocr?collId=284394&id=1865707&pages=1` gives the following message:\n",
    "\n",
    "b'The legacy OCR service is no longer available.'\n",
    "\n",
    "It would seem the documentation about OCR needs to be updated [here](https://readcoop.eu/transkribus/docu/rest-api/)\n",
    "\n",
    "---\n",
    "\n",
    "If we look at the xml of possible options, we find the following\n",
    "\n",
    "```xml\n",
    "<param xmlns:xs=\"http://www.w3.org/2001/XMLSchema\" name=\"collId\" style=\"query\" type=\"xs:int\"/>\n",
    "<param xmlns:xs=\"http://www.w3.org/2001/XMLSchema\" name=\"id\" style=\"query\" type=\"xs:int\"/>\n",
    "<param xmlns:xs=\"http://www.w3.org/2001/XMLSchema\" name=\"pages\" style=\"query\" type=\"xs:string\"/>\n",
    "<param xmlns:xs=\"http://www.w3.org/2001/XMLSchema\" name=\"typeFace\" style=\"query\" type=\"xs:string\"/>\n",
    "<param xmlns:xs=\"http://www.w3.org/2001/XMLSchema\" name=\"language\" style=\"query\" type=\"xs:string\"/>\n",
    "<param xmlns:xs=\"http://www.w3.org/2001/XMLSchema\" name=\"doBlockSegOnly\" style=\"query\" type=\"xs:boolean\" default=\"false\"/>\n",
    "<param xmlns:xs=\"http://www.w3.org/2001/XMLSchema\" name=\"type\" style=\"query\" type=\"xs:string\" default=\"Legacy\"/>\n",
    "```\n",
    "\n",
    "From this, I first assumed `type` is our issue, but the question for is what are allowable values?\n",
    "\n",
    "\n",
    "After some more digging, I'm now assuming I need to use the API at this [link](https://transkribus.eu/processing/swagger/) which I may attempt in the future."
   ]
  },
  {
   "cell_type": "markdown",
   "id": "40712438-0de9-4dd1-835d-81ad85a692be",
   "metadata": {},
   "source": []
  },
  {
   "cell_type": "code",
   "execution_count": 44,
   "id": "ebf3fcce-b24f-42d8-a10a-96f7594d1fd3",
   "metadata": {},
   "outputs": [],
   "source": [
    "test_link_1 = f'''{API_URL}recognition/ocr?collId={col_id_ocr}&id={doc_id_ocr}&pages={pgnr_ocr}&type='''\n",
    "test_link_2 = f\"{API_URL}recognition/ocr?collId={col_id_ocr}&id={doc_id_ocr}&pages={pgnr_ocr}&language=English&typeFace=combined\""
   ]
  },
  {
   "cell_type": "markdown",
   "id": "7a19a65a-72d8-4243-bac3-eb2c35fbad9c",
   "metadata": {},
   "source": []
  },
  {
   "cell_type": "code",
   "execution_count": 45,
   "id": "ff26a933-d720-409d-9139-c92b23bdafa7",
   "metadata": {},
   "outputs": [
    {
     "name": "stdout",
     "output_type": "stream",
     "text": [
      "HTTP error occurred for the url https://transkribus.eu/TrpServer/rest/recognition/ocr?collId=284394&id=1878176&pages=1&language=English&typeFace=combined:\n",
      "\t 403 Client Error: 403 for url: https://transkribus.eu/TrpServer/rest/recognition/ocr?collId=284394&id=1878176&pages=1&language=English&typeFace=combined\n"
     ]
    }
   ],
   "source": [
    "ocr_job_json = act_on_url(url = test_link_2 ,\n",
    "                          method = 'POST', session = s)"
   ]
  },
  {
   "cell_type": "markdown",
   "id": "2e45acb5-c95a-494f-b7dd-bae424b1378e",
   "metadata": {},
   "source": []
  },
  {
   "cell_type": "code",
   "execution_count": 46,
   "id": "2cbbe788-80c2-420e-8c5a-98468a30f694",
   "metadata": {},
   "outputs": [
    {
     "data": {
      "text/plain": [
       "b'The legacy OCR service is no longer available.'"
      ]
     },
     "execution_count": 46,
     "metadata": {},
     "output_type": "execute_result"
    }
   ],
   "source": [
    "ocr_job_json.content"
   ]
  },
  {
   "cell_type": "markdown",
   "id": "b195d1d7-6115-4bc9-b973-7eb529f53869",
   "metadata": {},
   "source": []
  },
  {
   "cell_type": "markdown",
   "id": "6d7f8104-727d-42cb-8ef4-820c9924e394",
   "metadata": {},
   "source": []
  },
  {
   "cell_type": "markdown",
   "id": "62a77659-8821-4cb1-90fa-4b760b3008d1",
   "metadata": {},
   "source": [
    "#### Retrieve The Text"
   ]
  },
  {
   "cell_type": "markdown",
   "id": "a315d5f7-92de-4cae-b928-af9968205b9d",
   "metadata": {},
   "source": []
  },
  {
   "cell_type": "markdown",
   "id": "4f369578-b639-4c62-8d72-1dae22aabc07",
   "metadata": {},
   "source": [
    "To extract the transcript, we require three things, which are:\n",
    "- The collection id\n",
    "- The document id\n",
    "- The page number\n",
    "\n",
    "Note that the page number **is not** the page id, it is the page number you've assigned to that particular image.\n",
    "\n",
    "Ours are chosen below."
   ]
  },
  {
   "cell_type": "code",
   "execution_count": 47,
   "id": "98c79dff-5d05-4e60-aac6-3e1a5af417b3",
   "metadata": {},
   "outputs": [],
   "source": [
    "ts_col_id = full_document_json['collection']['colId']\n",
    "ts_doc_id = full_document_json['md']['docId']\n",
    "ts_pg_num = 1"
   ]
  },
  {
   "cell_type": "markdown",
   "id": "3597cc06-6219-44fa-b19a-5b20fef76a2e",
   "metadata": {},
   "source": []
  },
  {
   "cell_type": "markdown",
   "id": "b8a14b89-9b2b-431a-9013-dc29762d2a7d",
   "metadata": {},
   "source": [
    "We then use the following url to query for the transcript."
   ]
  },
  {
   "cell_type": "code",
   "execution_count": 48,
   "id": "c4bf4ce3-12ad-42c2-b028-6cea562cbd68",
   "metadata": {},
   "outputs": [],
   "source": [
    "ts_url = f'''https://transkribus.eu/TrpServer/rest/collections/{ts_col_id}/{ts_doc_id}/{ts_pg_num}/text'''"
   ]
  },
  {
   "cell_type": "markdown",
   "id": "3c6cad47-0291-4cad-9b37-12fd6ff4cdd7",
   "metadata": {},
   "source": []
  },
  {
   "cell_type": "markdown",
   "id": "65e6109b-f2ec-49c5-b9a8-05be480be9a7",
   "metadata": {},
   "source": [
    "The response we receive is the transcript stored as an xml document."
   ]
  },
  {
   "cell_type": "code",
   "execution_count": 49,
   "id": "120ff2d0-22c6-4b45-8604-f01d1ffa8b54",
   "metadata": {},
   "outputs": [],
   "source": [
    "ts_response = act_on_url(ts_url, session = s)\n",
    "ts_root = ET.fromstring(ts_response.text)"
   ]
  },
  {
   "cell_type": "markdown",
   "id": "0ca20ee8-1102-4bd3-ac1c-847d96e0a429",
   "metadata": {},
   "source": []
  },
  {
   "cell_type": "markdown",
   "id": "e9e7263e-e8ef-4db7-9195-cfe67e20810e",
   "metadata": {},
   "source": [
    "See below for a simple example on querying the xml."
   ]
  },
  {
   "cell_type": "code",
   "execution_count": 50,
   "id": "3ccf76be-9545-488a-9cc8-e741d4efc1b6",
   "metadata": {},
   "outputs": [
    {
     "data": {
      "text/plain": [
       "[<Element '{http://schema.primaresearch.org/PAGE/gts/pagecontent/2013-07-15}TextRegion' at 0x0000026176E69D10>,\n",
       " <Element '{http://schema.primaresearch.org/PAGE/gts/pagecontent/2013-07-15}TextRegion' at 0x0000026176EC6540>,\n",
       " <Element '{http://schema.primaresearch.org/PAGE/gts/pagecontent/2013-07-15}TextRegion' at 0x0000026176EC7540>]"
      ]
     },
     "execution_count": 50,
     "metadata": {},
     "output_type": "execute_result"
    }
   ],
   "source": [
    "list(ts_root[1].iter('{http://schema.primaresearch.org/PAGE/gts/pagecontent/2013-07-15}TextRegion'))"
   ]
  },
  {
   "cell_type": "markdown",
   "id": "42070e5d-a43a-4e39-a92a-ccb05f657ba8",
   "metadata": {},
   "source": []
  },
  {
   "cell_type": "markdown",
   "id": "f43e138f-5264-45de-b552-1a8378ac153a",
   "metadata": {},
   "source": [
    "We will use two different queries to extract the transcript.\n",
    "\n",
    "The first, `text_0` maintains the formatting as shown in the browser, while pulling the text and giving a faithful reconstruction. The issue is that it's more involved.\n",
    "\n",
    "The second, `text_1` is a much simpler query, but loses some formatting and has some minor duplication."
   ]
  },
  {
   "cell_type": "markdown",
   "id": "984225a4-eb4d-40f5-9548-14b783aeb39f",
   "metadata": {},
   "source": []
  },
  {
   "cell_type": "markdown",
   "id": "baee385b-92db-4b89-b649-0241730b3695",
   "metadata": {},
   "source": [
    "##### Method One"
   ]
  },
  {
   "cell_type": "markdown",
   "id": "92650a00-d2f1-4ded-9ed5-fc3ce832c76d",
   "metadata": {},
   "source": []
  },
  {
   "cell_type": "markdown",
   "id": "dc1112b1-1116-4691-bdb3-74991f260961",
   "metadata": {},
   "source": [
    "We create a dictionary to make our query a little cleaner."
   ]
  },
  {
   "cell_type": "code",
   "execution_count": 51,
   "id": "bdad3ab9-b4ca-4021-a738-0880bd52bda3",
   "metadata": {},
   "outputs": [],
   "source": [
    "ts_dict = {\n",
    "    'TextRegion' : '{http://schema.primaresearch.org/PAGE/gts/pagecontent/2013-07-15}TextRegion',\n",
    "    'TextLine' : '{http://schema.primaresearch.org/PAGE/gts/pagecontent/2013-07-15}TextLine',\n",
    "    'TextEquiv' : '{http://schema.primaresearch.org/PAGE/gts/pagecontent/2013-07-15}TextEquiv'\n",
    "}"
   ]
  },
  {
   "cell_type": "markdown",
   "id": "ca6976ee-deca-4359-9735-4276add2b4a6",
   "metadata": {},
   "source": []
  },
  {
   "cell_type": "markdown",
   "id": "e139dc5f-6eaf-43ed-8efc-008fcb0a7aa0",
   "metadata": {},
   "source": [
    "Our query:"
   ]
  },
  {
   "cell_type": "code",
   "execution_count": 52,
   "id": "b221d2d6-c9e1-4fa9-a85e-9c0b7f0524b3",
   "metadata": {},
   "outputs": [
    {
     "name": "stdout",
     "output_type": "stream",
     "text": [
      "\n",
      "[[Region 1]]\n",
      "well defered so publick a Mark of their Gratitude,\n",
      "the inferiour far to the Obligations they are under\n",
      "to youg, to the amazing Effects of whop Capacely\n",
      "& ermness it is they owe their presant Happynep,\n",
      "& the proffect they have of future greatret\n",
      "with you a long Continuance of this propperity\n",
      "& ye it may be attended w all other Felicity  &\n",
      "I am wth the greatef Reffect & Leal &\n",
      "19 tohy 86\n",
      "M Woodhouss\n",
      "think Eyfham hath usd Me so very ill about ye\n",
      "Affair of the fale of his Estate near Wyebridges, that\n",
      "I am determind to bear wth his continuing in Arrear\n",
      "no longer, & therefore defire you to make an immediate\n",
      "Seizure of what ie kath, & not let hem go free till he\n",
      "hath pd every penny of what he ower: pray let Me\n",
      "know too how many years, if any, He hath in his\n",
      "leased, for pinteled to turne hem out of the Parmfortt.\n",
      "fw have the Fifhery kept still in o Rental\n",
      "but discharged under the head of Paymt & if Po\n",
      "I hope ye whole itefairs\n",
      "much p. .H.H.\n",
      "Ocnbury will be all finiht 7 year. I prefurme\n",
      "You take particular Care to see that the Reft of the\n",
      "Tenants, who are to fland to repair themploy, do\n",
      "accordingly repair their tarig, as oft & whenever\n",
      "there is Occasion for it, wch cannot be done is out\n",
      "44\n",
      "visiting now & then their Farm Houses opseing i\n",
      "your own Eyc in wt Condition they are it I s. nothing\n",
      "in my Caft of the doof caft of Dewfall it was anl\n",
      "Omission, my Jntention fecing to have this done hlewip\n",
      "thi year, & I defire I may have an Alfloar.\n",
      "\n",
      "[[Region 2]]\n",
      "o\n",
      "dexpess\n",
      "\n",
      "[[Region 3]]\n",
      "to lak\n",
      "Ant of\n",
      "\n"
     ]
    }
   ],
   "source": [
    "text_0 = ''\n",
    "\n",
    "# Select text data [1] and exclude meta data [0]\n",
    "for id, text_region in enumerate(ts_root[1].iter(ts_dict['TextRegion'])):\n",
    "    # Isolate Regions\n",
    "    #if id != 0:\n",
    "    text_0 = text_0 + f'\\n[[Region {id+1}]]\\n'\n",
    "    # Isolate just text\n",
    "    for all_text in text_region.iter(ts_dict['TextLine']):\n",
    "        for idd, text_in_line in enumerate(all_text.iter(ts_dict['TextEquiv'])):\n",
    "            # Isolate only full sentences, assuming it's the last element in its list\n",
    "            if idd == len(list(all_text.iter(ts_dict['TextEquiv']))) - 1:\n",
    "                for line in text_in_line:\n",
    "                    if line.text is not None:\n",
    "                        text_0 = text_0 + line.text + '\\n'\n",
    "\n",
    "\n",
    "print(text_0)\n",
    "        "
   ]
  },
  {
   "cell_type": "markdown",
   "id": "7eed8cd8-ac85-4c25-a10c-a417bb7b2e87",
   "metadata": {},
   "source": []
  },
  {
   "cell_type": "markdown",
   "id": "624a1232-0cf4-423f-bcb6-2341f6c445f0",
   "metadata": {},
   "source": [
    "##### Method Two"
   ]
  },
  {
   "cell_type": "markdown",
   "id": "c1848fa6-ab8a-4890-874f-6d68af8ec748",
   "metadata": {},
   "source": []
  },
  {
   "cell_type": "markdown",
   "id": "3d1cbe44-4e29-4108-834d-f5234075bf6c",
   "metadata": {},
   "source": [
    "Our query:"
   ]
  },
  {
   "cell_type": "code",
   "execution_count": 53,
   "id": "a4b29695-d203-40e7-a4cd-ca836a6182ab",
   "metadata": {},
   "outputs": [
    {
     "name": "stdout",
     "output_type": "stream",
     "text": [
      " well defered so publick a Mark of their Gratitude,\n",
      " the inferiour far to the Obligations they are under\n",
      " to youg, to the amazing Effects of whop Capacely\n",
      " & ermness it is they owe their presant Happynep,\n",
      " & the proffect they have of future greatret\n",
      " with you a long Continuance of this propperity\n",
      " & ye it may be attended w all other Felicity &\n",
      " I am wth the greatef Reffect & Leal &\n",
      " 19 tohy 86\n",
      " M Woodhouss\n",
      " think Eyfham hath usd Me so very ill about ye\n",
      " Affair of the fale of his Estate near Wyebridges, that\n",
      " I am determind to bear wth his continuing in Arrear\n",
      " no longer, & therefore defire you to make an immediate\n",
      " Seizure of what ie kath, & not let hem go free till he\n",
      " hath pd every penny of what he ower: pray let Me\n",
      " know too how many years, if any, He hath in his\n",
      " leased, for pinteled to turne hem out of the Parmfortt.\n",
      " fw have the Fifhery kept still in o Rental\n",
      " but discharged under the head of Paymt & if Po\n",
      " I hope ye whole itefairs\n",
      " much p. .H.H.\n",
      " Ocnbury will be all finiht 7 year. I prefurme\n",
      " You take particular Care to see that the Reft of the\n",
      " Tenants, who are to fland to repair themploy, do\n",
      " accordingly repair their tarig, as oft & whenever\n",
      " there is Occasion for it, wch cannot be done is out\n",
      " 44 44 visiting now & then their Farm Houses opseing i\n",
      " your own Eyc in wt Condition they are it I s. nothing\n",
      " in my Caft of the doof caft of Dewfall it was anl\n",
      " Omission, my Jntention fecing to have this done hlewip\n",
      " thi year, & I defire I may have an Alfloar.\n",
      " o o dexpess dexpess to lak\n",
      " Ant of\n",
      "\n"
     ]
    }
   ],
   "source": [
    "text_1 = ''\n",
    "for i in ts_root[1].itertext():\n",
    "    if (i.isspace() == False):\n",
    "        if i.find(' ') == -1:\n",
    "            text_1 = text_1 + ' ' + i\n",
    "        elif i.find(' ') >= 0:\n",
    "            text_1 = text_1 + '\\n'\n",
    "\n",
    "\n",
    "print(text_1)\n",
    "                "
   ]
  },
  {
   "cell_type": "markdown",
   "id": "0fe1416a-d45d-4395-b813-e7527bcaf5ce",
   "metadata": {},
   "source": []
  }
 ],
 "metadata": {
  "kernelspec": {
   "display_name": "Python 3 (ipykernel)",
   "language": "python",
   "name": "python3"
  },
  "language_info": {
   "codemirror_mode": {
    "name": "ipython",
    "version": 3
   },
   "file_extension": ".py",
   "mimetype": "text/x-python",
   "name": "python",
   "nbconvert_exporter": "python",
   "pygments_lexer": "ipython3",
   "version": "3.8.12"
  }
 },
 "nbformat": 4,
 "nbformat_minor": 5
}
